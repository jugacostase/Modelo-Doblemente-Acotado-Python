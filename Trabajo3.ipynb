{
 "cells": [
  {
   "cell_type": "markdown",
   "metadata": {},
   "source": [
    "# Taller: Distribución doblemente acotada \n",
    "\n",
    " Presentado por: Juan Guillermo Acosta\n",
    "\n",
    "### Objetivo\n",
    "\n",
    "Modelar la distribución de la matriz origen- destino a partir del modelo gravitacional doblemente acotado.\n",
    "\n",
    "\n",
    "### Procedimiento\n",
    "A continuación se explicará paso a paso el procedimiento seguido en este Notebook de Python\n",
    "\n",
    "### Librerías\n",
    "Se importa la librería _math_ para las funciones y valores matemáticos a usar, _matplotlib_ para las gráficas, _pandas_ para el manejo de los datos, _numpy_ para operaciones matemáticas y el modulo _optimize_ de _scipy_ para el ajuste de curvas."
   ]
  },
  {
   "cell_type": "code",
   "execution_count": 104,
   "metadata": {},
   "outputs": [],
   "source": [
    "import math as m\n",
    "import matplotlib.pyplot as plt\n",
    "%matplotlib inline\n",
    "import pandas as pd\n",
    "\n",
    "import numpy as np\n",
    "from scipy.optimize import curve_fit\n",
    "import seaborn as sns"
   ]
  },
  {
   "cell_type": "markdown",
   "metadata": {},
   "source": [
    "### Manejo inicial de los datos\n",
    "\n",
    "Antes que nada se exporta desde Excel el archivo de los datos como un csv (valores separados por comas). posteriormente usamos _pandas_ para cargar el archivo llamado __DatosTaller2.csv__, indicando que la coma es el separador. Los datos se guardan en la vriable df_i, que es un _DataFrame_ de _pandas_. "
   ]
  },
  {
   "cell_type": "code",
   "execution_count": 2,
   "metadata": {},
   "outputs": [],
   "source": [
    "df_i = pd.read_csv(\"DatosTaller2.csv\",sep=\",\")"
   ]
  },
  {
   "cell_type": "markdown",
   "metadata": {},
   "source": [
    "A continuación se imprimen las primeras 5 filas de los datos, para ver que todo se haya cargado en orden."
   ]
  },
  {
   "cell_type": "code",
   "execution_count": 3,
   "metadata": {},
   "outputs": [
    {
     "data": {
      "text/html": [
       "<div>\n",
       "<style scoped>\n",
       "    .dataframe tbody tr th:only-of-type {\n",
       "        vertical-align: middle;\n",
       "    }\n",
       "\n",
       "    .dataframe tbody tr th {\n",
       "        vertical-align: top;\n",
       "    }\n",
       "\n",
       "    .dataframe thead th {\n",
       "        text-align: right;\n",
       "    }\n",
       "</style>\n",
       "<table border=\"1\" class=\"dataframe\">\n",
       "  <thead>\n",
       "    <tr style=\"text-align: right;\">\n",
       "      <th></th>\n",
       "      <th>ORIGIN</th>\n",
       "      <th>DEST</th>\n",
       "      <th>TIJ</th>\n",
       "      <th>CIJ</th>\n",
       "    </tr>\n",
       "  </thead>\n",
       "  <tbody>\n",
       "    <tr>\n",
       "      <th>0</th>\n",
       "      <td>1</td>\n",
       "      <td>1</td>\n",
       "      <td>10524</td>\n",
       "      <td>28</td>\n",
       "    </tr>\n",
       "    <tr>\n",
       "      <th>1</th>\n",
       "      <td>1</td>\n",
       "      <td>2</td>\n",
       "      <td>380</td>\n",
       "      <td>23</td>\n",
       "    </tr>\n",
       "    <tr>\n",
       "      <th>2</th>\n",
       "      <td>1</td>\n",
       "      <td>3</td>\n",
       "      <td>807</td>\n",
       "      <td>28</td>\n",
       "    </tr>\n",
       "    <tr>\n",
       "      <th>3</th>\n",
       "      <td>1</td>\n",
       "      <td>4</td>\n",
       "      <td>559</td>\n",
       "      <td>24</td>\n",
       "    </tr>\n",
       "    <tr>\n",
       "      <th>4</th>\n",
       "      <td>1</td>\n",
       "      <td>5</td>\n",
       "      <td>356</td>\n",
       "      <td>31</td>\n",
       "    </tr>\n",
       "  </tbody>\n",
       "</table>\n",
       "</div>"
      ],
      "text/plain": [
       "   ORIGIN  DEST    TIJ  CIJ\n",
       "0       1     1  10524   28\n",
       "1       1     2    380   23\n",
       "2       1     3    807   28\n",
       "3       1     4    559   24\n",
       "4       1     5    356   31"
      ]
     },
     "execution_count": 3,
     "metadata": {},
     "output_type": "execute_result"
    }
   ],
   "source": [
    "df_i.head()"
   ]
  },
  {
   "cell_type": "markdown",
   "metadata": {},
   "source": [
    "Ahora contruimos dos matrices vacías de tamaño $26\\times26$, una para almacenar los valores de TIJ que vamos a llamar $\\mathbf T $ y otra para almacenar los CIJ que se llamará $\\mathbf c $. Se añaden ademas una fila y una columna extra para los $O_i$ y los $D_i$"
   ]
  },
  {
   "cell_type": "code",
   "execution_count": 31,
   "metadata": {},
   "outputs": [],
   "source": [
    "columns = []                 #lista para almacenar las columnas (destinos)\n",
    "index = []                   #lista para almacenar las filas (origenes)\n",
    "ablists = []\n",
    "for i in range (0,26):\n",
    "    columns.append(str(i))   # se llenan las listas anteriormente creadas con los numeros de las zonas, del 0 al 25\n",
    "    index.append(str(i))     # recordar que se hace de esta manera porque los índices en python comienzan en 0. \n",
    "    ablists.append(i)\n",
    "    \n",
    "C = pd.DataFrame(index = index, columns = columns)  #Se crea nuestra matriz C  \n",
    "index.append('D')            # Se añade al final una fila para los Di, donde irán las sumas de los destinos\n",
    "columns.append('O')          # Se añade al final una fila para los Oi, donde irán las sumas de los origenes\n",
    "\n",
    "T = pd.DataFrame(index = index, columns = columns)  # Se añaden estos \"labels\" a nuestras matriz T\n",
    "\n"
   ]
  },
  {
   "cell_type": "markdown",
   "metadata": {},
   "source": [
    "Aquí, se recorre la tabla inicial brindada y se comienzan a asignar los valores en la casilla correspondiente data por las columnas __ORIGIN__ y __DEST__ de la tabla inicial."
   ]
  },
  {
   "cell_type": "code",
   "execution_count": 32,
   "metadata": {},
   "outputs": [],
   "source": [
    "maxLength = int(len(df_i))     # Se establece la longitud de la tabla inicial para saber hasta dónde iterar.  \n",
    "\n",
    "for i in range (0,maxLength):  # Se itera desde 0 hasta 675.\n",
    "    x = df_i.iloc[i][0]-1     #Se obtiene el indice de las columnas y se resta 1 para corregir la indexacion de python\n",
    "    y = df_i.iloc[i][1]-1      # Se obtiene el indice de las filas y se resta 1 para corregir la indexacion de python\n",
    "    t = df_i.iloc[i][2]        # Se guarda el valor de TIJ\n",
    "    c = df_i.iloc[i][3]        # Se obtiene el valor de CIJ\n",
    "    \n",
    "    T.iloc[x][y] = t           # Se guarda el valor de TIJ en la casilla correspondiente de la matriz T\n",
    "    C.iloc[x][y] = c           # Se guarda el valor de CIJ en la casilla correspondiente de la matriz C\n",
    "    \n",
    "T['O'] = T.sum(axis = 1)       # Se suman los Origenes para almacenarlos en la última columna.\n",
    "T.iloc[26] = T.sum(axis = 0)   # Se suman los Destinos para almacenarlos en la última fila"
   ]
  },
  {
   "cell_type": "markdown",
   "metadata": {},
   "source": [
    "Imprimamos las primeras filas de la matriz para verificar que los datos se hayan organizado bien."
   ]
  },
  {
   "cell_type": "code",
   "execution_count": 33,
   "metadata": {},
   "outputs": [
    {
     "data": {
      "text/html": [
       "<div>\n",
       "<style scoped>\n",
       "    .dataframe tbody tr th:only-of-type {\n",
       "        vertical-align: middle;\n",
       "    }\n",
       "\n",
       "    .dataframe tbody tr th {\n",
       "        vertical-align: top;\n",
       "    }\n",
       "\n",
       "    .dataframe thead th {\n",
       "        text-align: right;\n",
       "    }\n",
       "</style>\n",
       "<table border=\"1\" class=\"dataframe\">\n",
       "  <thead>\n",
       "    <tr style=\"text-align: right;\">\n",
       "      <th></th>\n",
       "      <th>0</th>\n",
       "      <th>1</th>\n",
       "      <th>2</th>\n",
       "      <th>3</th>\n",
       "      <th>4</th>\n",
       "      <th>5</th>\n",
       "      <th>6</th>\n",
       "      <th>7</th>\n",
       "      <th>8</th>\n",
       "      <th>9</th>\n",
       "      <th>...</th>\n",
       "      <th>17</th>\n",
       "      <th>18</th>\n",
       "      <th>19</th>\n",
       "      <th>20</th>\n",
       "      <th>21</th>\n",
       "      <th>22</th>\n",
       "      <th>23</th>\n",
       "      <th>24</th>\n",
       "      <th>25</th>\n",
       "      <th>O</th>\n",
       "    </tr>\n",
       "  </thead>\n",
       "  <tbody>\n",
       "    <tr>\n",
       "      <th>0</th>\n",
       "      <td>10524</td>\n",
       "      <td>380</td>\n",
       "      <td>807</td>\n",
       "      <td>559</td>\n",
       "      <td>356</td>\n",
       "      <td>406</td>\n",
       "      <td>795</td>\n",
       "      <td>160</td>\n",
       "      <td>47</td>\n",
       "      <td>224</td>\n",
       "      <td>...</td>\n",
       "      <td>11</td>\n",
       "      <td>71</td>\n",
       "      <td>23</td>\n",
       "      <td>236</td>\n",
       "      <td>167</td>\n",
       "      <td>183</td>\n",
       "      <td>27</td>\n",
       "      <td>389</td>\n",
       "      <td>103</td>\n",
       "      <td>17071.0</td>\n",
       "    </tr>\n",
       "    <tr>\n",
       "      <th>1</th>\n",
       "      <td>392</td>\n",
       "      <td>1291</td>\n",
       "      <td>1756</td>\n",
       "      <td>1109</td>\n",
       "      <td>482</td>\n",
       "      <td>1110</td>\n",
       "      <td>2155</td>\n",
       "      <td>436</td>\n",
       "      <td>520</td>\n",
       "      <td>183</td>\n",
       "      <td>...</td>\n",
       "      <td>68</td>\n",
       "      <td>80</td>\n",
       "      <td>76</td>\n",
       "      <td>464</td>\n",
       "      <td>46</td>\n",
       "      <td>266</td>\n",
       "      <td>5</td>\n",
       "      <td>152</td>\n",
       "      <td>143</td>\n",
       "      <td>14644.0</td>\n",
       "    </tr>\n",
       "    <tr>\n",
       "      <th>2</th>\n",
       "      <td>857</td>\n",
       "      <td>1793</td>\n",
       "      <td>4430</td>\n",
       "      <td>2659</td>\n",
       "      <td>1243</td>\n",
       "      <td>4952</td>\n",
       "      <td>5210</td>\n",
       "      <td>1552</td>\n",
       "      <td>1848</td>\n",
       "      <td>1159</td>\n",
       "      <td>...</td>\n",
       "      <td>297</td>\n",
       "      <td>535</td>\n",
       "      <td>218</td>\n",
       "      <td>1242</td>\n",
       "      <td>82</td>\n",
       "      <td>434</td>\n",
       "      <td>46</td>\n",
       "      <td>585</td>\n",
       "      <td>579</td>\n",
       "      <td>42581.0</td>\n",
       "    </tr>\n",
       "    <tr>\n",
       "      <th>3</th>\n",
       "      <td>502</td>\n",
       "      <td>1097</td>\n",
       "      <td>2713</td>\n",
       "      <td>2873</td>\n",
       "      <td>1615</td>\n",
       "      <td>2155</td>\n",
       "      <td>2254</td>\n",
       "      <td>605</td>\n",
       "      <td>501</td>\n",
       "      <td>544</td>\n",
       "      <td>...</td>\n",
       "      <td>196</td>\n",
       "      <td>301</td>\n",
       "      <td>547</td>\n",
       "      <td>800</td>\n",
       "      <td>70</td>\n",
       "      <td>267</td>\n",
       "      <td>94</td>\n",
       "      <td>322</td>\n",
       "      <td>228</td>\n",
       "      <td>23131.0</td>\n",
       "    </tr>\n",
       "    <tr>\n",
       "      <th>4</th>\n",
       "      <td>335</td>\n",
       "      <td>454</td>\n",
       "      <td>1215</td>\n",
       "      <td>1757</td>\n",
       "      <td>5647</td>\n",
       "      <td>2355</td>\n",
       "      <td>3498</td>\n",
       "      <td>782</td>\n",
       "      <td>428</td>\n",
       "      <td>466</td>\n",
       "      <td>...</td>\n",
       "      <td>177</td>\n",
       "      <td>69</td>\n",
       "      <td>172</td>\n",
       "      <td>649</td>\n",
       "      <td>28</td>\n",
       "      <td>281</td>\n",
       "      <td>5</td>\n",
       "      <td>321</td>\n",
       "      <td>236</td>\n",
       "      <td>23901.0</td>\n",
       "    </tr>\n",
       "  </tbody>\n",
       "</table>\n",
       "<p>5 rows × 27 columns</p>\n",
       "</div>"
      ],
      "text/plain": [
       "       0     1     2     3     4     5     6     7     8     9   ...      17  \\\n",
       "0  10524   380   807   559   356   406   795   160    47   224   ...      11   \n",
       "1    392  1291  1756  1109   482  1110  2155   436   520   183   ...      68   \n",
       "2    857  1793  4430  2659  1243  4952  5210  1552  1848  1159   ...     297   \n",
       "3    502  1097  2713  2873  1615  2155  2254   605   501   544   ...     196   \n",
       "4    335   454  1215  1757  5647  2355  3498   782   428   466   ...     177   \n",
       "\n",
       "    18   19    20   21   22  23   24   25        O  \n",
       "0   71   23   236  167  183  27  389  103  17071.0  \n",
       "1   80   76   464   46  266   5  152  143  14644.0  \n",
       "2  535  218  1242   82  434  46  585  579  42581.0  \n",
       "3  301  547   800   70  267  94  322  228  23131.0  \n",
       "4   69  172   649   28  281   5  321  236  23901.0  \n",
       "\n",
       "[5 rows x 27 columns]"
      ]
     },
     "execution_count": 33,
     "metadata": {},
     "output_type": "execute_result"
    }
   ],
   "source": [
    "T.head()"
   ]
  },
  {
   "cell_type": "markdown",
   "metadata": {},
   "source": [
    "Imprimamos la esquina inferior derecha de la matriz $\\mathbf T$ para verificar los destinos"
   ]
  },
  {
   "cell_type": "code",
   "execution_count": 34,
   "metadata": {},
   "outputs": [
    {
     "data": {
      "text/html": [
       "<div>\n",
       "<style scoped>\n",
       "    .dataframe tbody tr th:only-of-type {\n",
       "        vertical-align: middle;\n",
       "    }\n",
       "\n",
       "    .dataframe tbody tr th {\n",
       "        vertical-align: top;\n",
       "    }\n",
       "\n",
       "    .dataframe thead th {\n",
       "        text-align: right;\n",
       "    }\n",
       "</style>\n",
       "<table border=\"1\" class=\"dataframe\">\n",
       "  <thead>\n",
       "    <tr style=\"text-align: right;\">\n",
       "      <th></th>\n",
       "      <th>20</th>\n",
       "      <th>21</th>\n",
       "      <th>22</th>\n",
       "      <th>23</th>\n",
       "      <th>24</th>\n",
       "      <th>25</th>\n",
       "      <th>O</th>\n",
       "    </tr>\n",
       "  </thead>\n",
       "  <tbody>\n",
       "    <tr>\n",
       "      <th>20</th>\n",
       "      <td>2743</td>\n",
       "      <td>2439</td>\n",
       "      <td>958</td>\n",
       "      <td>334</td>\n",
       "      <td>1307</td>\n",
       "      <td>610</td>\n",
       "      <td>37407.0</td>\n",
       "    </tr>\n",
       "    <tr>\n",
       "      <th>21</th>\n",
       "      <td>2298</td>\n",
       "      <td>2327</td>\n",
       "      <td>386</td>\n",
       "      <td>102</td>\n",
       "      <td>782</td>\n",
       "      <td>743</td>\n",
       "      <td>15910.0</td>\n",
       "    </tr>\n",
       "    <tr>\n",
       "      <th>22</th>\n",
       "      <td>969</td>\n",
       "      <td>395</td>\n",
       "      <td>793</td>\n",
       "      <td>68</td>\n",
       "      <td>1209</td>\n",
       "      <td>643</td>\n",
       "      <td>15779.0</td>\n",
       "    </tr>\n",
       "    <tr>\n",
       "      <th>23</th>\n",
       "      <td>343</td>\n",
       "      <td>118</td>\n",
       "      <td>68</td>\n",
       "      <td>2065</td>\n",
       "      <td>1211</td>\n",
       "      <td>366</td>\n",
       "      <td>9237.0</td>\n",
       "    </tr>\n",
       "    <tr>\n",
       "      <th>24</th>\n",
       "      <td>1395</td>\n",
       "      <td>886</td>\n",
       "      <td>1195</td>\n",
       "      <td>1150</td>\n",
       "      <td>6014</td>\n",
       "      <td>1932</td>\n",
       "      <td>31166.0</td>\n",
       "    </tr>\n",
       "    <tr>\n",
       "      <th>25</th>\n",
       "      <td>541</td>\n",
       "      <td>801</td>\n",
       "      <td>708</td>\n",
       "      <td>368</td>\n",
       "      <td>1804</td>\n",
       "      <td>1635</td>\n",
       "      <td>14769.0</td>\n",
       "    </tr>\n",
       "    <tr>\n",
       "      <th>D</th>\n",
       "      <td>37382</td>\n",
       "      <td>15972</td>\n",
       "      <td>15872</td>\n",
       "      <td>9448</td>\n",
       "      <td>31143</td>\n",
       "      <td>14832</td>\n",
       "      <td>716864.0</td>\n",
       "    </tr>\n",
       "  </tbody>\n",
       "</table>\n",
       "</div>"
      ],
      "text/plain": [
       "       20     21     22    23     24     25         O\n",
       "20   2743   2439    958   334   1307    610   37407.0\n",
       "21   2298   2327    386   102    782    743   15910.0\n",
       "22    969    395    793    68   1209    643   15779.0\n",
       "23    343    118     68  2065   1211    366    9237.0\n",
       "24   1395    886   1195  1150   6014   1932   31166.0\n",
       "25    541    801    708   368   1804   1635   14769.0\n",
       "D   37382  15972  15872  9448  31143  14832  716864.0"
      ]
     },
     "execution_count": 34,
     "metadata": {},
     "output_type": "execute_result"
    }
   ],
   "source": [
    "T.iloc[20:27,20:27]"
   ]
  },
  {
   "cell_type": "markdown",
   "metadata": {},
   "source": [
    "Imprimamos ahora las primeras filas de la matriz $\\mathbf c$ para verificar que haya quedado bien construida"
   ]
  },
  {
   "cell_type": "code",
   "execution_count": 35,
   "metadata": {},
   "outputs": [
    {
     "data": {
      "text/html": [
       "<div>\n",
       "<style scoped>\n",
       "    .dataframe tbody tr th:only-of-type {\n",
       "        vertical-align: middle;\n",
       "    }\n",
       "\n",
       "    .dataframe tbody tr th {\n",
       "        vertical-align: top;\n",
       "    }\n",
       "\n",
       "    .dataframe thead th {\n",
       "        text-align: right;\n",
       "    }\n",
       "</style>\n",
       "<table border=\"1\" class=\"dataframe\">\n",
       "  <thead>\n",
       "    <tr style=\"text-align: right;\">\n",
       "      <th></th>\n",
       "      <th>0</th>\n",
       "      <th>1</th>\n",
       "      <th>2</th>\n",
       "      <th>3</th>\n",
       "      <th>4</th>\n",
       "      <th>5</th>\n",
       "      <th>6</th>\n",
       "      <th>7</th>\n",
       "      <th>8</th>\n",
       "      <th>9</th>\n",
       "      <th>...</th>\n",
       "      <th>16</th>\n",
       "      <th>17</th>\n",
       "      <th>18</th>\n",
       "      <th>19</th>\n",
       "      <th>20</th>\n",
       "      <th>21</th>\n",
       "      <th>22</th>\n",
       "      <th>23</th>\n",
       "      <th>24</th>\n",
       "      <th>25</th>\n",
       "    </tr>\n",
       "  </thead>\n",
       "  <tbody>\n",
       "    <tr>\n",
       "      <th>0</th>\n",
       "      <td>28</td>\n",
       "      <td>23</td>\n",
       "      <td>28</td>\n",
       "      <td>24</td>\n",
       "      <td>31</td>\n",
       "      <td>35</td>\n",
       "      <td>31</td>\n",
       "      <td>41</td>\n",
       "      <td>22</td>\n",
       "      <td>38</td>\n",
       "      <td>...</td>\n",
       "      <td>39</td>\n",
       "      <td>33</td>\n",
       "      <td>76</td>\n",
       "      <td>55</td>\n",
       "      <td>35</td>\n",
       "      <td>38</td>\n",
       "      <td>48</td>\n",
       "      <td>52</td>\n",
       "      <td>44</td>\n",
       "      <td>41</td>\n",
       "    </tr>\n",
       "    <tr>\n",
       "      <th>1</th>\n",
       "      <td>29</td>\n",
       "      <td>26</td>\n",
       "      <td>27</td>\n",
       "      <td>23</td>\n",
       "      <td>39</td>\n",
       "      <td>34</td>\n",
       "      <td>28</td>\n",
       "      <td>40</td>\n",
       "      <td>34</td>\n",
       "      <td>35</td>\n",
       "      <td>...</td>\n",
       "      <td>71</td>\n",
       "      <td>45</td>\n",
       "      <td>35</td>\n",
       "      <td>46</td>\n",
       "      <td>45</td>\n",
       "      <td>35</td>\n",
       "      <td>50</td>\n",
       "      <td>60</td>\n",
       "      <td>67</td>\n",
       "      <td>43</td>\n",
       "    </tr>\n",
       "    <tr>\n",
       "      <th>2</th>\n",
       "      <td>31</td>\n",
       "      <td>31</td>\n",
       "      <td>20</td>\n",
       "      <td>24</td>\n",
       "      <td>28</td>\n",
       "      <td>29</td>\n",
       "      <td>24</td>\n",
       "      <td>27</td>\n",
       "      <td>24</td>\n",
       "      <td>29</td>\n",
       "      <td>...</td>\n",
       "      <td>29</td>\n",
       "      <td>28</td>\n",
       "      <td>37</td>\n",
       "      <td>41</td>\n",
       "      <td>44</td>\n",
       "      <td>38</td>\n",
       "      <td>45</td>\n",
       "      <td>41</td>\n",
       "      <td>45</td>\n",
       "      <td>47</td>\n",
       "    </tr>\n",
       "    <tr>\n",
       "      <th>3</th>\n",
       "      <td>31</td>\n",
       "      <td>24</td>\n",
       "      <td>24</td>\n",
       "      <td>20</td>\n",
       "      <td>24</td>\n",
       "      <td>29</td>\n",
       "      <td>24</td>\n",
       "      <td>28</td>\n",
       "      <td>27</td>\n",
       "      <td>33</td>\n",
       "      <td>...</td>\n",
       "      <td>38</td>\n",
       "      <td>40</td>\n",
       "      <td>39</td>\n",
       "      <td>35</td>\n",
       "      <td>38</td>\n",
       "      <td>35</td>\n",
       "      <td>48</td>\n",
       "      <td>60</td>\n",
       "      <td>63</td>\n",
       "      <td>53</td>\n",
       "    </tr>\n",
       "    <tr>\n",
       "      <th>4</th>\n",
       "      <td>37</td>\n",
       "      <td>38</td>\n",
       "      <td>33</td>\n",
       "      <td>24</td>\n",
       "      <td>22</td>\n",
       "      <td>31</td>\n",
       "      <td>27</td>\n",
       "      <td>28</td>\n",
       "      <td>29</td>\n",
       "      <td>36</td>\n",
       "      <td>...</td>\n",
       "      <td>41</td>\n",
       "      <td>57</td>\n",
       "      <td>41</td>\n",
       "      <td>49</td>\n",
       "      <td>56</td>\n",
       "      <td>43</td>\n",
       "      <td>39</td>\n",
       "      <td>47</td>\n",
       "      <td>52</td>\n",
       "      <td>53</td>\n",
       "    </tr>\n",
       "  </tbody>\n",
       "</table>\n",
       "<p>5 rows × 26 columns</p>\n",
       "</div>"
      ],
      "text/plain": [
       "    0   1   2   3   4   5   6   7   8   9 ...  16  17  18  19  20  21  22  23  \\\n",
       "0  28  23  28  24  31  35  31  41  22  38 ...  39  33  76  55  35  38  48  52   \n",
       "1  29  26  27  23  39  34  28  40  34  35 ...  71  45  35  46  45  35  50  60   \n",
       "2  31  31  20  24  28  29  24  27  24  29 ...  29  28  37  41  44  38  45  41   \n",
       "3  31  24  24  20  24  29  24  28  27  33 ...  38  40  39  35  38  35  48  60   \n",
       "4  37  38  33  24  22  31  27  28  29  36 ...  41  57  41  49  56  43  39  47   \n",
       "\n",
       "   24  25  \n",
       "0  44  41  \n",
       "1  67  43  \n",
       "2  45  47  \n",
       "3  63  53  \n",
       "4  52  53  \n",
       "\n",
       "[5 rows x 26 columns]"
      ]
     },
     "execution_count": 35,
     "metadata": {},
     "output_type": "execute_result"
    }
   ],
   "source": [
    "C.head()"
   ]
  },
  {
   "cell_type": "markdown",
   "metadata": {},
   "source": [
    "A continuación, creamos una matriz $\\mathbf V$ con los mismos $O_i$ y $D_j$ de $\\mathbf T$, pero con el resto de entradas $0$"
   ]
  },
  {
   "cell_type": "code",
   "execution_count": 36,
   "metadata": {},
   "outputs": [],
   "source": [
    "V = pd.DataFrame(0,index = index, columns = columns) # Creamos V con ceros y le damos las mismas filas y columnas de T\n",
    "V.iloc[26] = T.iloc[26]                              # Le asignamos los Oi de T\n",
    "V.iloc[:,26] = T.iloc[:,26]                          # Le asignamos los Dj de T"
   ]
  },
  {
   "cell_type": "markdown",
   "metadata": {},
   "source": [
    "Imprimimos la esquina inferior derecha de la matriz vacía $\\mathbf V$ para verificar."
   ]
  },
  {
   "cell_type": "code",
   "execution_count": 37,
   "metadata": {},
   "outputs": [
    {
     "data": {
      "text/html": [
       "<div>\n",
       "<style scoped>\n",
       "    .dataframe tbody tr th:only-of-type {\n",
       "        vertical-align: middle;\n",
       "    }\n",
       "\n",
       "    .dataframe tbody tr th {\n",
       "        vertical-align: top;\n",
       "    }\n",
       "\n",
       "    .dataframe thead th {\n",
       "        text-align: right;\n",
       "    }\n",
       "</style>\n",
       "<table border=\"1\" class=\"dataframe\">\n",
       "  <thead>\n",
       "    <tr style=\"text-align: right;\">\n",
       "      <th></th>\n",
       "      <th>20</th>\n",
       "      <th>21</th>\n",
       "      <th>22</th>\n",
       "      <th>23</th>\n",
       "      <th>24</th>\n",
       "      <th>25</th>\n",
       "      <th>O</th>\n",
       "    </tr>\n",
       "  </thead>\n",
       "  <tbody>\n",
       "    <tr>\n",
       "      <th>20</th>\n",
       "      <td>0.0</td>\n",
       "      <td>0.0</td>\n",
       "      <td>0.0</td>\n",
       "      <td>0.0</td>\n",
       "      <td>0.0</td>\n",
       "      <td>0.0</td>\n",
       "      <td>37407.0</td>\n",
       "    </tr>\n",
       "    <tr>\n",
       "      <th>21</th>\n",
       "      <td>0.0</td>\n",
       "      <td>0.0</td>\n",
       "      <td>0.0</td>\n",
       "      <td>0.0</td>\n",
       "      <td>0.0</td>\n",
       "      <td>0.0</td>\n",
       "      <td>15910.0</td>\n",
       "    </tr>\n",
       "    <tr>\n",
       "      <th>22</th>\n",
       "      <td>0.0</td>\n",
       "      <td>0.0</td>\n",
       "      <td>0.0</td>\n",
       "      <td>0.0</td>\n",
       "      <td>0.0</td>\n",
       "      <td>0.0</td>\n",
       "      <td>15779.0</td>\n",
       "    </tr>\n",
       "    <tr>\n",
       "      <th>23</th>\n",
       "      <td>0.0</td>\n",
       "      <td>0.0</td>\n",
       "      <td>0.0</td>\n",
       "      <td>0.0</td>\n",
       "      <td>0.0</td>\n",
       "      <td>0.0</td>\n",
       "      <td>9237.0</td>\n",
       "    </tr>\n",
       "    <tr>\n",
       "      <th>24</th>\n",
       "      <td>0.0</td>\n",
       "      <td>0.0</td>\n",
       "      <td>0.0</td>\n",
       "      <td>0.0</td>\n",
       "      <td>0.0</td>\n",
       "      <td>0.0</td>\n",
       "      <td>31166.0</td>\n",
       "    </tr>\n",
       "    <tr>\n",
       "      <th>25</th>\n",
       "      <td>0.0</td>\n",
       "      <td>0.0</td>\n",
       "      <td>0.0</td>\n",
       "      <td>0.0</td>\n",
       "      <td>0.0</td>\n",
       "      <td>0.0</td>\n",
       "      <td>14769.0</td>\n",
       "    </tr>\n",
       "    <tr>\n",
       "      <th>D</th>\n",
       "      <td>37382.0</td>\n",
       "      <td>15972.0</td>\n",
       "      <td>15872.0</td>\n",
       "      <td>9448.0</td>\n",
       "      <td>31143.0</td>\n",
       "      <td>14832.0</td>\n",
       "      <td>716864.0</td>\n",
       "    </tr>\n",
       "  </tbody>\n",
       "</table>\n",
       "</div>"
      ],
      "text/plain": [
       "         20       21       22      23       24       25         O\n",
       "20      0.0      0.0      0.0     0.0      0.0      0.0   37407.0\n",
       "21      0.0      0.0      0.0     0.0      0.0      0.0   15910.0\n",
       "22      0.0      0.0      0.0     0.0      0.0      0.0   15779.0\n",
       "23      0.0      0.0      0.0     0.0      0.0      0.0    9237.0\n",
       "24      0.0      0.0      0.0     0.0      0.0      0.0   31166.0\n",
       "25      0.0      0.0      0.0     0.0      0.0      0.0   14769.0\n",
       "D   37382.0  15972.0  15872.0  9448.0  31143.0  14832.0  716864.0"
      ]
     },
     "execution_count": 37,
     "metadata": {},
     "output_type": "execute_result"
    }
   ],
   "source": [
    "V.iloc[20:27,20:27]"
   ]
  },
  {
   "cell_type": "markdown",
   "metadata": {},
   "source": [
    "### Implementación del algoritmo del modelo de gravedad\n",
    "\n",
    "A continuación se implementará el algoritmo.\n",
    "\n",
    "Para esto, vamos a comenzar definiendo un parámetro $\\alpha = 1.2 $ y un parámetro $\\beta = 0.02$, cuyos valores son apenas suposiciones iniciales para comenzar a probar el modelo. \n",
    "\n",
    "Posteriormente, definimos tres funciones, llamadas _fexp_, _fpot_, y _fcom_, para referirnos a las funciones exponencial, potencial y compuesta, dependientes de los parámetros $\\alpha$ y $\\beta$ de la forma\n",
    "\n",
    "$\\begin{equation}\n",
    "f(c_{ij}) = e^{-\\beta c_{ij}}\n",
    "\\end{equation}\n",
    "$\n",
    "\n",
    "$\\begin{equation}\n",
    "f(c_{ij}) = (c_{ij})^{-\\alpha}\n",
    "\\end{equation}\n",
    "$\n",
    "\n",
    "$\\begin{equation}\n",
    "f(c_{ij}) = (c_{ij})^{-\\alpha} e^{-\\beta c_{ij}}\n",
    "\\end{equation}\n",
    "$\n"
   ]
  },
  {
   "cell_type": "code",
   "execution_count": 304,
   "metadata": {},
   "outputs": [],
   "source": [
    "alpha = 1.2        # parametro alpha                      \n",
    "beta = 0.02        # parámetro beta\n",
    "\n",
    "def fexp(i,j):   # se define la función exponencial en terminos de los indices ij\n",
    "    return m.exp(-1*beta*C.iloc[i,j])\n",
    "\n",
    "def fpot(i,j):   # se define la función potencial en terminos de los indices ij\n",
    "    return (C.iloc[i,j])**(-1*alpha)\n",
    "\n",
    "def fcom(i,j):   # se define la función combinada en terminos de los indices ij\n",
    "    return ((C.iloc[i,j])**(-1*alpha))*(m.exp(-1*beta*C.iloc[i,j]))\n"
   ]
  },
  {
   "cell_type": "markdown",
   "metadata": {},
   "source": [
    "A continuación, creamos dos vectores $A_i$ y $B_j$ de longitud $26$ y los llenamos de $1$. Es importante aclarar que una de las matrices se comenzará a calcular en términos de la otra, por lo que al final solo utilizaremos los $1$ de una de ellas. Adicionalmente, también se crearán arreglos para guardar los $A_i$ y $B_j$ en cada iteración, con el fin de tener un registro de su evolución conforme avanzan los pasos computacionales."
   ]
  },
  {
   "cell_type": "code",
   "execution_count": 39,
   "metadata": {},
   "outputs": [],
   "source": [
    "maxL = int(m.sqrt(maxLength))      # Se define una variable para la longitud de los vectores\n",
    "\n",
    "A = pd.Series(1.0, index=ablists)  # Se llena la matriz A de 1s\n",
    "B = pd.Series(1.0, index=ablists)  # Se llena la matriz B de 1s\n",
    "\n",
    "A1graph = []                       # Se crean arreglos para guardar evolucion temporal de A\n",
    "A11graph = []\n",
    "A25graph = []\n",
    "\n",
    "B2graph = []                       # Se crean arreglos para guardar evolucion temporal de B\n",
    "B12graph = []\n",
    "B24graph = []"
   ]
  },
  {
   "cell_type": "markdown",
   "metadata": {},
   "source": [
    "Aquí implementamos el método iterativo que estimará los $A_i$ y $B_j$ de la siguiente manera:\n",
    "\n",
    "Se asume $B_j = 1$. Posteriormente, se calcula cada $A_i$ con la siguiente ecuación:\n",
    "\n",
    "$A_i = \\dfrac{1}{\\sum_j B_j D_j f(c_{ij})} $ \n",
    "\n",
    "Para ello se usan dos ciclos _for_ , uno para iterar sobre las $i$ y recorrer cada elemento de $A$ y otro para iterar sobre las $j$ y recorrer cada elemento de $B$ y $D_j$, que no es más que la última fila de $\\mathbf T$. Una vez que se han calculado todas las $A_j$, se repite el proceso, pero esta vez iterando primero sobre las $j$ y luego sobre las $i$, empleando la siguiente expresión para calcular los $B_j$\n",
    "\n",
    "$B_j = \\dfrac{1}{\\sum_i A_i O_i f(c_{ij})} $ \n",
    "\n",
    "Los dos pasos anteriores se repiten varias veces hasta que los $A_i$ y $B_j$ se estabilicen lo suficiente. Para controlar dicha estabilización, vamos a graficar el registro de tres entradas de cada uno de estos vectores en fucnión de cada iteración.\n",
    "\n",
    "Comenzaremos probando con la función exponencial."
   ]
  },
  {
   "cell_type": "code",
   "execution_count": 40,
   "metadata": {},
   "outputs": [],
   "source": [
    "iterac = 20                                              # Se pone el número de iteraciones en 20\n",
    "\n",
    "for i in range (0,iterac):                               \n",
    "    for i in range (0,maxL):\n",
    "        suma = 0\n",
    "        for j in range (0,maxL):\n",
    "            suma = suma + V.iloc[maxL,j]*B[j]*fexp(i,j)\n",
    "        A[i] = 1/suma\n",
    "\n",
    "    for j in range (0,maxL):\n",
    "        suma = 0\n",
    "        for i in range (0,maxL):\n",
    "            suma = suma + V.iloc[i,maxL]*A[i]*fexp(i,j)\n",
    "        B[j] = 1/suma\n",
    "        \n",
    "    A1graph.append(A[1])                               # Se guardan os registros para graficar\n",
    "    A11graph.append(A[11])\n",
    "    A25graph.append(A[25])\n",
    "    B2graph.append(B[2])\n",
    "    B12graph.append(B[12])\n",
    "    B24graph.append(B[24])"
   ]
  },
  {
   "cell_type": "markdown",
   "metadata": {},
   "source": [
    "Grafiquemos los $A_i$ en función de las iteraciones"
   ]
  },
  {
   "cell_type": "code",
   "execution_count": 41,
   "metadata": {},
   "outputs": [
    {
     "data": {
      "image/png": "[encoded data removed]",
      "text/plain": [
       "<Figure size 432x288 with 1 Axes>"
      ]
     },
     "metadata": {},
     "output_type": "display_data"
    }
   ],
   "source": [
    "iteraciones = np.linspace(0,iterac-1,iterac)\n",
    "\n",
    "plt.plot(iteraciones, A1graph, label=r'$A_1$')\n",
    "plt.plot(iteraciones, A11graph, label=r'$A_{11}$')\n",
    "plt.plot(iteraciones, A25graph, label=r'$A_{25}$')\n",
    "plt.title(r'Estabilización de los $A_i$')\n",
    "plt.xlabel('iteraciones') \n",
    "plt.ylabel('valor') \n",
    "plt.legend();"
   ]
  },
  {
   "cell_type": "markdown",
   "metadata": {},
   "source": [
    "Grafiquemos los $B_i$ en función de las iteraciones"
   ]
  },
  {
   "cell_type": "code",
   "execution_count": 42,
   "metadata": {},
   "outputs": [
    {
     "data": {
      "image/png": "[encoded data removed]",
      "text/plain": [
       "<Figure size 432x288 with 1 Axes>"
      ]
     },
     "metadata": {},
     "output_type": "display_data"
    }
   ],
   "source": [
    "plt.plot(iteraciones, B2graph, label=r'$B_2$')\n",
    "plt.plot(iteraciones, B12graph, label=r'$B_{12}$')\n",
    "plt.plot(iteraciones, B24graph, label=r'$B_{13}$')\n",
    "plt.title(r'Estabilización de los $B_j$')\n",
    "plt.xlabel('iteraciones') \n",
    "plt.ylabel('valor') \n",
    "plt.legend();"
   ]
  },
  {
   "cell_type": "markdown",
   "metadata": {},
   "source": [
    "Como se puede ver, tanto los $A_i$ como los $B_j$ se se estabilizan muy rápido, prácticamente tras el primer paso.\n",
    "\n",
    "Lo que haremos a continuación será calcular la matriz modelada $\\mathbf V$. Esta dependerá de los $A_i$ y $B_j$ de la siguiente manera:\n",
    "\n",
    "$\n",
    "V_{ij} = A_i O_i B_j D_j f(c_{ij}) \n",
    "$"
   ]
  },
  {
   "cell_type": "code",
   "execution_count": 43,
   "metadata": {},
   "outputs": [],
   "source": [
    "for i in range (0,maxL):\n",
    "    for j in range (0,maxL):\n",
    "        V.iloc[i][j] = V.iloc[maxL][j]*V.iloc[i][maxL]*A[i]*B[j]*fexp(i,j) # cálculo de los Vij de acuerdo a la formula\n",
    "\n",
    "V['O'] = 0                       # refrescamos los Oi\n",
    "V.iloc[maxL] = 0                 # refrescamos los Dj\n",
    "V['O'] = V.sum(axis = 1)         # Se calculan los Oi\n",
    "V.iloc[maxL] = V.sum(axis = 0)   # Se calculan los Dj"
   ]
  },
  {
   "cell_type": "markdown",
   "metadata": {},
   "source": [
    "Imprimamos la matriz $\\mathbf V$ estimada"
   ]
  },
  {
   "cell_type": "code",
   "execution_count": 44,
   "metadata": {},
   "outputs": [
    {
     "data": {
      "text/html": [
       "<div>\n",
       "<style scoped>\n",
       "    .dataframe tbody tr th:only-of-type {\n",
       "        vertical-align: middle;\n",
       "    }\n",
       "\n",
       "    .dataframe tbody tr th {\n",
       "        vertical-align: top;\n",
       "    }\n",
       "\n",
       "    .dataframe thead th {\n",
       "        text-align: right;\n",
       "    }\n",
       "</style>\n",
       "<table border=\"1\" class=\"dataframe\">\n",
       "  <thead>\n",
       "    <tr style=\"text-align: right;\">\n",
       "      <th></th>\n",
       "      <th>0</th>\n",
       "      <th>1</th>\n",
       "      <th>2</th>\n",
       "      <th>3</th>\n",
       "      <th>4</th>\n",
       "      <th>5</th>\n",
       "      <th>6</th>\n",
       "      <th>7</th>\n",
       "      <th>8</th>\n",
       "      <th>9</th>\n",
       "      <th>...</th>\n",
       "      <th>17</th>\n",
       "      <th>18</th>\n",
       "      <th>19</th>\n",
       "      <th>20</th>\n",
       "      <th>21</th>\n",
       "      <th>22</th>\n",
       "      <th>23</th>\n",
       "      <th>24</th>\n",
       "      <th>25</th>\n",
       "      <th>O</th>\n",
       "    </tr>\n",
       "  </thead>\n",
       "  <tbody>\n",
       "    <tr>\n",
       "      <th>0</th>\n",
       "      <td>551.056388</td>\n",
       "      <td>536.172261</td>\n",
       "      <td>1211.442475</td>\n",
       "      <td>724.313453</td>\n",
       "      <td>698.129824</td>\n",
       "      <td>1279.325896</td>\n",
       "      <td>1296.496034</td>\n",
       "      <td>583.605529</td>\n",
       "      <td>956.667092</td>\n",
       "      <td>682.858311</td>\n",
       "      <td>...</td>\n",
       "      <td>286.640930</td>\n",
       "      <td>175.759052</td>\n",
       "      <td>322.348058</td>\n",
       "      <td>908.290244</td>\n",
       "      <td>381.631987</td>\n",
       "      <td>306.249216</td>\n",
       "      <td>190.793399</td>\n",
       "      <td>748.820537</td>\n",
       "      <td>354.705369</td>\n",
       "      <td>17071.0</td>\n",
       "    </tr>\n",
       "    <tr>\n",
       "      <th>1</th>\n",
       "      <td>460.734253</td>\n",
       "      <td>430.712049</td>\n",
       "      <td>1054.214621</td>\n",
       "      <td>630.307957</td>\n",
       "      <td>507.445520</td>\n",
       "      <td>1113.287747</td>\n",
       "      <td>1174.273365</td>\n",
       "      <td>507.861904</td>\n",
       "      <td>641.904630</td>\n",
       "      <td>618.484211</td>\n",
       "      <td>...</td>\n",
       "      <td>192.330375</td>\n",
       "      <td>340.392142</td>\n",
       "      <td>329.183769</td>\n",
       "      <td>634.316636</td>\n",
       "      <td>345.654955</td>\n",
       "      <td>250.982566</td>\n",
       "      <td>138.680876</td>\n",
       "      <td>403.220528</td>\n",
       "      <td>290.694177</td>\n",
       "      <td>14644.0</td>\n",
       "    </tr>\n",
       "    <tr>\n",
       "      <th>2</th>\n",
       "      <td>1189.017183</td>\n",
       "      <td>1046.807880</td>\n",
       "      <td>3257.164346</td>\n",
       "      <td>1659.496382</td>\n",
       "      <td>1698.414225</td>\n",
       "      <td>3304.808409</td>\n",
       "      <td>3416.820612</td>\n",
       "      <td>1769.178330</td>\n",
       "      <td>2105.905186</td>\n",
       "      <td>1873.067224</td>\n",
       "      <td>...</td>\n",
       "      <td>725.800748</td>\n",
       "      <td>878.450221</td>\n",
       "      <td>977.186080</td>\n",
       "      <td>1738.206625</td>\n",
       "      <td>874.368549</td>\n",
       "      <td>745.044842</td>\n",
       "      <td>544.700645</td>\n",
       "      <td>1681.673249</td>\n",
       "      <td>720.779096</td>\n",
       "      <td>42581.0</td>\n",
       "    </tr>\n",
       "    <tr>\n",
       "      <th>3</th>\n",
       "      <td>661.336592</td>\n",
       "      <td>669.734441</td>\n",
       "      <td>1672.362945</td>\n",
       "      <td>999.894757</td>\n",
       "      <td>1023.343887</td>\n",
       "      <td>1838.148988</td>\n",
       "      <td>1900.450669</td>\n",
       "      <td>964.539781</td>\n",
       "      <td>1103.101735</td>\n",
       "      <td>961.710214</td>\n",
       "      <td>...</td>\n",
       "      <td>317.556611</td>\n",
       "      <td>469.439684</td>\n",
       "      <td>612.811677</td>\n",
       "      <td>1090.061902</td>\n",
       "      <td>516.400458</td>\n",
       "      <td>390.264606</td>\n",
       "      <td>207.186002</td>\n",
       "      <td>652.574388</td>\n",
       "      <td>355.566853</td>\n",
       "      <td>23131.0</td>\n",
       "    </tr>\n",
       "    <tr>\n",
       "      <th>4</th>\n",
       "      <td>639.490886</td>\n",
       "      <td>551.857973</td>\n",
       "      <td>1522.946591</td>\n",
       "      <td>1006.324106</td>\n",
       "      <td>1161.236084</td>\n",
       "      <td>1925.466974</td>\n",
       "      <td>1951.309125</td>\n",
       "      <td>1051.592034</td>\n",
       "      <td>1155.502613</td>\n",
       "      <td>987.446792</td>\n",
       "      <td>...</td>\n",
       "      <td>246.426936</td>\n",
       "      <td>491.739578</td>\n",
       "      <td>504.953888</td>\n",
       "      <td>829.148446</td>\n",
       "      <td>479.762883</td>\n",
       "      <td>509.400440</td>\n",
       "      <td>292.957161</td>\n",
       "      <td>886.547387</td>\n",
       "      <td>387.657697</td>\n",
       "      <td>23901.0</td>\n",
       "    </tr>\n",
       "  </tbody>\n",
       "</table>\n",
       "<p>5 rows × 27 columns</p>\n",
       "</div>"
      ],
      "text/plain": [
       "             0            1            2            3            4  \\\n",
       "0   551.056388   536.172261  1211.442475   724.313453   698.129824   \n",
       "1   460.734253   430.712049  1054.214621   630.307957   507.445520   \n",
       "2  1189.017183  1046.807880  3257.164346  1659.496382  1698.414225   \n",
       "3   661.336592   669.734441  1672.362945   999.894757  1023.343887   \n",
       "4   639.490886   551.857973  1522.946591  1006.324106  1161.236084   \n",
       "\n",
       "             5            6            7            8            9   ...     \\\n",
       "0  1279.325896  1296.496034   583.605529   956.667092   682.858311   ...      \n",
       "1  1113.287747  1174.273365   507.861904   641.904630   618.484211   ...      \n",
       "2  3304.808409  3416.820612  1769.178330  2105.905186  1873.067224   ...      \n",
       "3  1838.148988  1900.450669   964.539781  1103.101735   961.710214   ...      \n",
       "4  1925.466974  1951.309125  1051.592034  1155.502613   987.446792   ...      \n",
       "\n",
       "           17          18          19           20          21          22  \\\n",
       "0  286.640930  175.759052  322.348058   908.290244  381.631987  306.249216   \n",
       "1  192.330375  340.392142  329.183769   634.316636  345.654955  250.982566   \n",
       "2  725.800748  878.450221  977.186080  1738.206625  874.368549  745.044842   \n",
       "3  317.556611  469.439684  612.811677  1090.061902  516.400458  390.264606   \n",
       "4  246.426936  491.739578  504.953888   829.148446  479.762883  509.400440   \n",
       "\n",
       "           23           24          25        O  \n",
       "0  190.793399   748.820537  354.705369  17071.0  \n",
       "1  138.680876   403.220528  290.694177  14644.0  \n",
       "2  544.700645  1681.673249  720.779096  42581.0  \n",
       "3  207.186002   652.574388  355.566853  23131.0  \n",
       "4  292.957161   886.547387  387.657697  23901.0  \n",
       "\n",
       "[5 rows x 27 columns]"
      ]
     },
     "execution_count": 44,
     "metadata": {},
     "output_type": "execute_result"
    }
   ],
   "source": [
    "V.head()"
   ]
  },
  {
   "cell_type": "markdown",
   "metadata": {},
   "source": [
    "E imprimamos también la matriz original $\\mathbf T$"
   ]
  },
  {
   "cell_type": "code",
   "execution_count": 45,
   "metadata": {},
   "outputs": [
    {
     "data": {
      "text/html": [
       "<div>\n",
       "<style scoped>\n",
       "    .dataframe tbody tr th:only-of-type {\n",
       "        vertical-align: middle;\n",
       "    }\n",
       "\n",
       "    .dataframe tbody tr th {\n",
       "        vertical-align: top;\n",
       "    }\n",
       "\n",
       "    .dataframe thead th {\n",
       "        text-align: right;\n",
       "    }\n",
       "</style>\n",
       "<table border=\"1\" class=\"dataframe\">\n",
       "  <thead>\n",
       "    <tr style=\"text-align: right;\">\n",
       "      <th></th>\n",
       "      <th>0</th>\n",
       "      <th>1</th>\n",
       "      <th>2</th>\n",
       "      <th>3</th>\n",
       "      <th>4</th>\n",
       "      <th>5</th>\n",
       "      <th>6</th>\n",
       "      <th>7</th>\n",
       "      <th>8</th>\n",
       "      <th>9</th>\n",
       "      <th>...</th>\n",
       "      <th>17</th>\n",
       "      <th>18</th>\n",
       "      <th>19</th>\n",
       "      <th>20</th>\n",
       "      <th>21</th>\n",
       "      <th>22</th>\n",
       "      <th>23</th>\n",
       "      <th>24</th>\n",
       "      <th>25</th>\n",
       "      <th>O</th>\n",
       "    </tr>\n",
       "  </thead>\n",
       "  <tbody>\n",
       "    <tr>\n",
       "      <th>0</th>\n",
       "      <td>10524</td>\n",
       "      <td>380</td>\n",
       "      <td>807</td>\n",
       "      <td>559</td>\n",
       "      <td>356</td>\n",
       "      <td>406</td>\n",
       "      <td>795</td>\n",
       "      <td>160</td>\n",
       "      <td>47</td>\n",
       "      <td>224</td>\n",
       "      <td>...</td>\n",
       "      <td>11</td>\n",
       "      <td>71</td>\n",
       "      <td>23</td>\n",
       "      <td>236</td>\n",
       "      <td>167</td>\n",
       "      <td>183</td>\n",
       "      <td>27</td>\n",
       "      <td>389</td>\n",
       "      <td>103</td>\n",
       "      <td>17071.0</td>\n",
       "    </tr>\n",
       "    <tr>\n",
       "      <th>1</th>\n",
       "      <td>392</td>\n",
       "      <td>1291</td>\n",
       "      <td>1756</td>\n",
       "      <td>1109</td>\n",
       "      <td>482</td>\n",
       "      <td>1110</td>\n",
       "      <td>2155</td>\n",
       "      <td>436</td>\n",
       "      <td>520</td>\n",
       "      <td>183</td>\n",
       "      <td>...</td>\n",
       "      <td>68</td>\n",
       "      <td>80</td>\n",
       "      <td>76</td>\n",
       "      <td>464</td>\n",
       "      <td>46</td>\n",
       "      <td>266</td>\n",
       "      <td>5</td>\n",
       "      <td>152</td>\n",
       "      <td>143</td>\n",
       "      <td>14644.0</td>\n",
       "    </tr>\n",
       "    <tr>\n",
       "      <th>2</th>\n",
       "      <td>857</td>\n",
       "      <td>1793</td>\n",
       "      <td>4430</td>\n",
       "      <td>2659</td>\n",
       "      <td>1243</td>\n",
       "      <td>4952</td>\n",
       "      <td>5210</td>\n",
       "      <td>1552</td>\n",
       "      <td>1848</td>\n",
       "      <td>1159</td>\n",
       "      <td>...</td>\n",
       "      <td>297</td>\n",
       "      <td>535</td>\n",
       "      <td>218</td>\n",
       "      <td>1242</td>\n",
       "      <td>82</td>\n",
       "      <td>434</td>\n",
       "      <td>46</td>\n",
       "      <td>585</td>\n",
       "      <td>579</td>\n",
       "      <td>42581.0</td>\n",
       "    </tr>\n",
       "    <tr>\n",
       "      <th>3</th>\n",
       "      <td>502</td>\n",
       "      <td>1097</td>\n",
       "      <td>2713</td>\n",
       "      <td>2873</td>\n",
       "      <td>1615</td>\n",
       "      <td>2155</td>\n",
       "      <td>2254</td>\n",
       "      <td>605</td>\n",
       "      <td>501</td>\n",
       "      <td>544</td>\n",
       "      <td>...</td>\n",
       "      <td>196</td>\n",
       "      <td>301</td>\n",
       "      <td>547</td>\n",
       "      <td>800</td>\n",
       "      <td>70</td>\n",
       "      <td>267</td>\n",
       "      <td>94</td>\n",
       "      <td>322</td>\n",
       "      <td>228</td>\n",
       "      <td>23131.0</td>\n",
       "    </tr>\n",
       "    <tr>\n",
       "      <th>4</th>\n",
       "      <td>335</td>\n",
       "      <td>454</td>\n",
       "      <td>1215</td>\n",
       "      <td>1757</td>\n",
       "      <td>5647</td>\n",
       "      <td>2355</td>\n",
       "      <td>3498</td>\n",
       "      <td>782</td>\n",
       "      <td>428</td>\n",
       "      <td>466</td>\n",
       "      <td>...</td>\n",
       "      <td>177</td>\n",
       "      <td>69</td>\n",
       "      <td>172</td>\n",
       "      <td>649</td>\n",
       "      <td>28</td>\n",
       "      <td>281</td>\n",
       "      <td>5</td>\n",
       "      <td>321</td>\n",
       "      <td>236</td>\n",
       "      <td>23901.0</td>\n",
       "    </tr>\n",
       "  </tbody>\n",
       "</table>\n",
       "<p>5 rows × 27 columns</p>\n",
       "</div>"
      ],
      "text/plain": [
       "       0     1     2     3     4     5     6     7     8     9   ...      17  \\\n",
       "0  10524   380   807   559   356   406   795   160    47   224   ...      11   \n",
       "1    392  1291  1756  1109   482  1110  2155   436   520   183   ...      68   \n",
       "2    857  1793  4430  2659  1243  4952  5210  1552  1848  1159   ...     297   \n",
       "3    502  1097  2713  2873  1615  2155  2254   605   501   544   ...     196   \n",
       "4    335   454  1215  1757  5647  2355  3498   782   428   466   ...     177   \n",
       "\n",
       "    18   19    20   21   22  23   24   25        O  \n",
       "0   71   23   236  167  183  27  389  103  17071.0  \n",
       "1   80   76   464   46  266   5  152  143  14644.0  \n",
       "2  535  218  1242   82  434  46  585  579  42581.0  \n",
       "3  301  547   800   70  267  94  322  228  23131.0  \n",
       "4   69  172   649   28  281   5  321  236  23901.0  \n",
       "\n",
       "[5 rows x 27 columns]"
      ]
     },
     "execution_count": 45,
     "metadata": {},
     "output_type": "execute_result"
    }
   ],
   "source": [
    "T.head()"
   ]
  },
  {
   "cell_type": "markdown",
   "metadata": {},
   "source": [
    "Vemos que si bien los $O_i$ cierran perfecto, a simple vista los valores internos de la matriz estan lejos de ser los acertados. Pongamos esto en una visualización donde sea más evidente. Para ello, recompondremos la matriz $\\mathbf V$ en un vector (como venía $\\mathbf T$ en un principio). De esta forma, podremos comparar los valores uno a uno en una grafica de pares ordenados correspondientes, donde lo ideal sería que ambos fueran iguales siempre y por que por consiguiente, tuvieramos una recta de pendiente $1$.\n",
    "\n",
    "A continuación, el algoritmo encargado de descomponer la matriz y volverla nuevamente un vector."
   ]
  },
  {
   "cell_type": "code",
   "execution_count": 46,
   "metadata": {},
   "outputs": [],
   "source": [
    "rcolumns = ['Origin','Desti','VIJ']             # Se crean las columnas como en la tabla inicial\n",
    "rindex = []\n",
    "for i in range (0,676):\n",
    "    rindex.append(str(i))                       # Se crean 26 x 26 filas\n",
    "\n",
    "Rexp = pd.DataFrame( index = rindex, columns = rcolumns)            # se asignan esas filas y columnas a una nueva Tabla                    \n",
    "row = 0                                                          # se establece un contador de filas\n",
    "for i in range (0,maxL):\n",
    "    for j in range (0,maxL):                             \n",
    "        Rexp.iloc[row] = [i+1, j+1, V.iloc[i,j]]                    # se llena la tabla con los valores en V\n",
    "        row = row + 1\n",
    "        "
   ]
  },
  {
   "cell_type": "code",
   "execution_count": 47,
   "metadata": {},
   "outputs": [
    {
     "data": {
      "text/plain": [
       "<matplotlib.legend.Legend at 0x11cb30cf8>"
      ]
     },
     "execution_count": 47,
     "metadata": {},
     "output_type": "execute_result"
    },
    {
     "data": {
      "image/png": "[encoded data removed]",
      "text/plain": [
       "<Figure size 432x288 with 1 Axes>"
      ]
     },
     "metadata": {},
     "output_type": "display_data"
    }
   ],
   "source": [
    "plt.plot(df_i['TIJ'],Rexp['VIJ'],'.', label='resultado')\n",
    "plt.plot(df_i['TIJ'],df_i['TIJ'], label='recta teórica')\n",
    "plt.title(r'Comparación entre valores reales $T_{ij}$ con valores calculados $V_{ij}$ con función exponencial')\n",
    "plt.xlabel(r'$T_{ij}$') \n",
    "plt.ylabel(r'$V_{ij}$') \n",
    "plt.legend()\n"
   ]
  },
  {
   "cell_type": "markdown",
   "metadata": {},
   "source": [
    "Como se puede ver, los valores se distribuyen de manera más o menos equitativa alrededor de la recta teórica, pero observamos valores muy alejados de esta. A continuación vamos a probar el qué se obtiene para las funciones potencial y combinada sin variar $\\alpha$ y $\\beta$. Simplemente se repetirá todo el codigo anterior variando las funciones, por lo que se copiará el código."
   ]
  },
  {
   "cell_type": "code",
   "execution_count": 21,
   "metadata": {},
   "outputs": [
    {
     "data": {
      "text/plain": [
       "<matplotlib.legend.Legend at 0x11cbc93c8>"
      ]
     },
     "execution_count": 21,
     "metadata": {},
     "output_type": "execute_result"
    },
    {
     "data": {
      "image/png": "[encoded data removed]",
      "text/plain": [
       "<Figure size 432x288 with 1 Axes>"
      ]
     },
     "metadata": {},
     "output_type": "display_data"
    }
   ],
   "source": [
    "V = pd.DataFrame(0,index = index, columns = columns) # Creamos V con ceros y le damos las mismas filas y columnas de T\n",
    "V.iloc[26] = T.iloc[26]                              # Le asignamos los Oi de T\n",
    "V.iloc[:,26] = T.iloc[:,26]                          # Le asignamos los Dj de T\n",
    "\n",
    "maxL = int(m.sqrt(maxLength))      # Se define una variable para la longitud de los vectores\n",
    "\n",
    "A = pd.Series(1.0, index=ablists)  # Se llena la matriz A de 1s\n",
    "B = pd.Series(1.0, index=ablists)  # Se llena la matriz B de 1s\n",
    "\n",
    "A1graph = []                       # Se crean arreglos para guardar evolucion temporal de A\n",
    "A11graph = []\n",
    "A25graph = []\n",
    "\n",
    "B2graph = []                       # Se crean arreglos para guardar evolucion temporal de B\n",
    "B12graph = []\n",
    "B24graph = []\n",
    "\n",
    "iterac = 20                                              # Se pone el número de iteraciones en 20\n",
    "\n",
    "for i in range (0,iterac):                               \n",
    "    for i in range (0,maxL):\n",
    "        suma = 0\n",
    "        for j in range (0,maxL):\n",
    "            suma = suma + V.iloc[maxL,j]*B[j]*fpot(i,j)\n",
    "        A[i] = 1/suma\n",
    "\n",
    "    for j in range (0,maxL):\n",
    "        suma = 0\n",
    "        for i in range (0,maxL):\n",
    "            suma = suma + V.iloc[i,maxL]*A[i]*fpot(i,j)\n",
    "        B[j] = 1/suma\n",
    "        \n",
    "    A1graph.append(A[1])                               # Se guardan os registros para graficar\n",
    "    A11graph.append(A[11])\n",
    "    A25graph.append(A[25])\n",
    "    B2graph.append(B[2])\n",
    "    B12graph.append(B[12])\n",
    "    B24graph.append(B[24])\n",
    "    \n",
    "for i in range (0,maxL):\n",
    "    for j in range (0,maxL):\n",
    "        V.iloc[i][j] = V.iloc[maxL][j]*V.iloc[i][maxL]*A[i]*B[j]*fpot(i,j) # cálculo de los Vij de acuerdo a la formula\n",
    "\n",
    "V['O'] = 0                       # refrescamos los Oi\n",
    "V.iloc[maxL] = 0                 # refrescamos los Dj\n",
    "V['O'] = V.sum(axis = 1)         # Se calculan los Oi\n",
    "V.iloc[maxL] = V.sum(axis = 0)   # Se calculan los Dj\n",
    "\n",
    "rcolumns = ['Origin','Desti','VIJ']             # Se crean las columnas como en la tabla inicial\n",
    "rindex = []\n",
    "for i in range (0,676):\n",
    "    rindex.append(str(i))                       # Se crean 26 x 26 filas\n",
    "\n",
    "Rpot = pd.DataFrame( index = rindex, columns = rcolumns)            # se asignan esas filas y columnas a una nueva Tabla                    \n",
    "row = 0                                                          # se establece un contador de filas\n",
    "for i in range (0,maxL):\n",
    "    for j in range (0,maxL):                             \n",
    "        Rpot.iloc[row] = [i+1, j+1, V.iloc[i,j]]                    # se llena la tabla con los valores en V\n",
    "        row = row + 1\n",
    "        \n",
    "plt.plot(df_i['TIJ'],Rpot['VIJ'],'.', label='resultado')\n",
    "plt.plot(df_i['TIJ'],df_i['TIJ'], label='recta teórica')\n",
    "plt.title(r'Comparación entre valores reales $T_{ij}$ con valores calculados $V_{ij}$ con función Potencial')\n",
    "plt.xlabel(r'$T_{ij}$') \n",
    "plt.ylabel(r'$V_{ij}$') \n",
    "plt.legend()\n",
    "\n",
    "\n"
   ]
  },
  {
   "cell_type": "code",
   "execution_count": 303,
   "metadata": {},
   "outputs": [
    {
     "data": {
      "text/plain": [
       "<matplotlib.legend.Legend at 0x1a2566a748>"
      ]
     },
     "execution_count": 303,
     "metadata": {},
     "output_type": "execute_result"
    },
    {
     "data": {
      "image/png": "[encoded data removed]",
      "text/plain": [
       "<Figure size 432x288 with 1 Axes>"
      ]
     },
     "metadata": {},
     "output_type": "display_data"
    }
   ],
   "source": [
    "V = pd.DataFrame(0,index = index, columns = columns) # Creamos V con ceros y le damos las mismas filas y columnas de T\n",
    "V.iloc[26] = T.iloc[26]                              # Le asignamos los Oi de T\n",
    "V.iloc[:,26] = T.iloc[:,26]                          # Le asignamos los Dj de T\n",
    "\n",
    "maxL = int(m.sqrt(maxLength))      # Se define una variable para la longitud de los vectores\n",
    "\n",
    "A = pd.Series(1.0, index=ablists)  # Se llena la matriz A de 1s\n",
    "B = pd.Series(1.0, index=ablists)  # Se llena la matriz B de 1s\n",
    "\n",
    "A1graph = []                       # Se crean arreglos para guardar evolucion temporal de A\n",
    "A11graph = []\n",
    "A25graph = []\n",
    "\n",
    "B2graph = []                       # Se crean arreglos para guardar evolucion temporal de B\n",
    "B12graph = []\n",
    "B24graph = []\n",
    "\n",
    "iterac = 20                                              # Se pone el número de iteraciones en 20\n",
    "\n",
    "for i in range (0,iterac):                               \n",
    "    for i in range (0,maxL):\n",
    "        suma = 0\n",
    "        for j in range (0,maxL):\n",
    "            suma = suma + V.iloc[maxL,j]*B[j]*fcom(i,j)\n",
    "        A[i] = 1/suma\n",
    "\n",
    "    for j in range (0,maxL):\n",
    "        suma = 0\n",
    "        for i in range (0,maxL):\n",
    "            suma = suma + V.iloc[i,maxL]*A[i]*fcom(i,j)\n",
    "        B[j] = 1/suma\n",
    "        \n",
    "    A1graph.append(A[1])                               # Se guardan os registros para graficar\n",
    "    A11graph.append(A[11])\n",
    "    A25graph.append(A[25])\n",
    "    B2graph.append(B[2])\n",
    "    B12graph.append(B[12])\n",
    "    B24graph.append(B[24])\n",
    "    \n",
    "for i in range (0,maxL):\n",
    "    for j in range (0,maxL):\n",
    "        V.iloc[i][j] = V.iloc[maxL][j]*V.iloc[i][maxL]*A[i]*B[j]*fcom(i,j) # cálculo de los Vij de acuerdo a la formula\n",
    "\n",
    "V['O'] = 0                       # refrescamos los Oi\n",
    "V.iloc[maxL] = 0                 # refrescamos los Dj\n",
    "V['O'] = V.sum(axis = 1)         # Se calculan los Oi\n",
    "V.iloc[maxL] = V.sum(axis = 0)   # Se calculan los Dj\n",
    "\n",
    "rcolumns = ['Origin','Desti','VIJ']             # Se crean las columnas como en la tabla inicial\n",
    "rindex = []\n",
    "for i in range (0,676):\n",
    "    rindex.append(str(i))                       # Se crean 26 x 26 filas\n",
    "\n",
    "Rcom = pd.DataFrame( index = rindex, columns = rcolumns)            # se asignan esas filas y columnas a una nueva Tabla                    \n",
    "row = 0                                                          # se establece un contador de filas\n",
    "for i in range (0,maxL):\n",
    "    for j in range (0,maxL):                             \n",
    "        Rcom.iloc[row] = [i+1, j+1, V.iloc[i,j]]                    # se llena la tabla con los valores en V\n",
    "        row = row + 1\n",
    "        \n",
    "plt.plot(df_i['TIJ'],Rcom['VIJ'],'.', label='resultado')\n",
    "plt.plot(df_i['TIJ'],df_i['TIJ'], label='recta teórica')\n",
    "plt.title(r'Comparación entre valores reales $T_{ij}$ con valores calculados $V_{ij}$ con función compuesta')\n",
    "plt.xlabel(r'$T_{ij}$') \n",
    "plt.ylabel(r'$V_{ij}$') \n",
    "plt.legend()\n",
    "\n",
    "\n"
   ]
  },
  {
   "cell_type": "code",
   "execution_count": 23,
   "metadata": {},
   "outputs": [
    {
     "data": {
      "text/plain": [
       "<matplotlib.legend.Legend at 0x11d0adcf8>"
      ]
     },
     "execution_count": 23,
     "metadata": {},
     "output_type": "execute_result"
    },
    {
     "data": {
      "image/png": "[encoded data removed]",
      "text/plain": [
       "<Figure size 1296x288 with 3 Axes>"
      ]
     },
     "metadata": {},
     "output_type": "display_data"
    }
   ],
   "source": [
    "fig, axs = plt.subplots(1,3, figsize=(18,4)) \n",
    "axs[0].plot(df_i['TIJ'],Rexp['VIJ'],'.', label='resultado')\n",
    "axs[0].plot(df_i['TIJ'],df_i['TIJ'], label='recta teórica')\n",
    "#plt.title(r'Comparación entre valores reales $T_{ij}$ con valores calculados $V_{ij}$ con función compuesta')\n",
    "axs[0].set_xlabel(r'$T_{ij}$') \n",
    "axs[0].set_ylabel(r'$V_{ij}$') \n",
    "axs[0].legend()\n",
    "\n",
    "\n",
    "\n",
    "axs[1].plot(df_i['TIJ'],Rpot['VIJ'],'.', label='resultado')\n",
    "axs[1].plot(df_i['TIJ'],df_i['TIJ'], label='recta teórica')\n",
    "#plt.title(r'Comparación entre valores reales $T_{ij}$ con valores calculados $V_{ij}$ con función compuesta')\n",
    "axs[1].set_xlabel(r'$T_{ij}$') \n",
    "axs[1].set_ylabel(r'$V_{ij}$') \n",
    "axs[1].legend()\n",
    "\n",
    "\n",
    "\n",
    "axs[2].plot(df_i['TIJ'],Rcom['VIJ'],'.', label='resultado')\n",
    "axs[2].plot(df_i['TIJ'],df_i['TIJ'], label='recta teórica')\n",
    "#axs[2].title(r'Comparación entre valores reales $T_{ij}$ con valores calculados $V_{ij}$ con función compuesta')\n",
    "axs[2].set_xlabel(r'$T_{ij}$') \n",
    "axs[2].set_ylabel(r'$V_{ij}$') \n",
    "axs[2].legend()\n",
    "\n",
    "\n",
    "\n",
    "\n"
   ]
  },
  {
   "cell_type": "markdown",
   "metadata": {},
   "source": [
    "Calculemos ahora los $R^2$ para cada gráfica."
   ]
  },
  {
   "cell_type": "code",
   "execution_count": 222,
   "metadata": {},
   "outputs": [
    {
     "name": "stdout",
     "output_type": "stream",
     "text": [
      "R2 0.3336106378597319\n"
     ]
    }
   ],
   "source": [
    "sumaR1=0\n",
    "sumaR2=0\n",
    "for i in range (0,676):\n",
    "    sumaR1 = sumaR1 + (Rexp.iloc[i,2]-Rexp['VIJ'].mean())**2\n",
    "    sumaR2 = sumaR2 + (Rexp.iloc[i,2]-df_i.iloc[i,2])**2\n",
    "print('R2',1-sumaR2/sumaR1)"
   ]
  },
  {
   "cell_type": "code",
   "execution_count": 223,
   "metadata": {},
   "outputs": [
    {
     "name": "stdout",
     "output_type": "stream",
     "text": [
      "R2 0.44951752205775564\n"
     ]
    }
   ],
   "source": [
    "sumaR1=0\n",
    "sumaR2=0\n",
    "for i in range (0,676):\n",
    "    sumaR1 = sumaR1 + (Rpot.iloc[i,2]-Rpot['VIJ'].mean())**2\n",
    "    sumaR2 = sumaR2 + (Rpot.iloc[i,2]-df_i.iloc[i,2])**2\n",
    "print('R2',1-sumaR2/sumaR1)"
   ]
  },
  {
   "cell_type": "code",
   "execution_count": 221,
   "metadata": {},
   "outputs": [
    {
     "name": "stdout",
     "output_type": "stream",
     "text": [
      "R2 0.5213004269850985\n"
     ]
    }
   ],
   "source": [
    "sumaR1=0\n",
    "sumaR2=0\n",
    "for i in range (0,676):\n",
    "    sumaR1 = sumaR1 + (Rcom.iloc[i,2]-Rcom['VIJ'].mean())**2\n",
    "    sumaR2 = sumaR2 + (Rcom.iloc[i,2]-df_i.iloc[i,2])**2\n",
    "print('R2',1-sumaR2/sumaR1)"
   ]
  },
  {
   "cell_type": "markdown",
   "metadata": {},
   "source": [
    "Como se puede apreciar, los valores de $R^2$ son poco concluyentes, por lo que tendremos que encontrar otras formas de calibrar el modelo. Comencemos por quitar los viajes intrazonales, debido a que por un lado corresponden a los datos más atípicos. Por otro lado, Ortuzar menciona lo pobremente que están representados los costos de los viajes intrazonales, pues se asume que obedecen a la misma dinámica que los viajes etre otras zonas aun cuando se sabe que no es así. Por tal razón se considera apropiado ignorarlos de momento. \n",
    "\n",
    "Probemos, además, un método para calibrar el parámetro de la función exponencial. "
   ]
  },
  {
   "cell_type": "markdown",
   "metadata": {},
   "source": [
    "## Calibrando los parámetros utilizando el método de Hyman.\n",
    "\n",
    "El libro de Ortuzar discute un método que se considera eficiente para la calibración de los parámetros. Este método se describirá brevemente a continuación.\n",
    "\n",
    "### Método de Hyman (como se describe en el Modelling Transport de Ortuzar).\n",
    "\n",
    "Este método asume una función de costo generalizado de la forma:\n",
    "\n",
    "$\n",
    "f(c_{ij})=e^{-\\beta c_{ij}}\n",
    "$\n",
    "\n",
    "Sea  $ \\mathbf V (\\beta) $ la matriz de viajes obtenida como función del parámetro $\\beta$.\n",
    "Sean también $ \\sum_{ij} V_{ij} (\\beta) = V(\\beta) $ los viajes totales producto de dicha matriz. \n",
    "\n",
    "El método se basa en el siguiente requisito sobre $\\beta$\n",
    "\n",
    "$\n",
    "c(\\beta) = \\sum_{ij} \\lbrack V_{ij}(\\beta) c_{ij} \\rbrack/ V(\\beta) = c^* = \\sum_{ij}(T_{ij}c_{ij})/\\sum_{ij}T_{ij}\n",
    "$\n",
    "\n",
    "donde $c^*$ es el costo promedio de la matriz origen destino observada (en este caso $\\mathbf T$) y $T_{ij}$ es la cantidad de viajes expandidos observados en $\\mathbf T$ para cada par origen destino.\n",
    "\n",
    "De esta forma, el método es descrito así:\n",
    "\n",
    "1. Se comienza la primera iteración haciendo $m=0$ y estimando $\\beta_0=1/c^*$\n",
    "2. Se usa el valor de $\\beta_0$ para calcular la matriz de viajes por medio del modelo de gravedad estándar. Se obtiene el costo promedio de los viajes modelados $c_0$ y se estima un mejor valor de $\\beta$ así:\n",
    "\n",
    "$\\beta_m=\\beta_0c_0/c^*$\n",
    "\n",
    "3. Se hace $m = m + 1$. Utilizando el último valor de $\\beta$ (es decir $\\beta_{m-1}$), se calcula la matriz de viajes usando el modelo de gravedad estándar y se obtiene un nuevo costo promedio de los viajes modelados $c_{m-1}$ y se compara con $c^*$. Si son lo suficientemente parecidos, se acepta $\\beta_{m-1}$ como el mejor estimado para este parámetro, de lo contrario, se sigue al paso 4. \n",
    "\n",
    "4. Se obtiene un mejor estimado para $\\beta$ así:\n",
    "\n",
    "$\\beta_{m+1} = \\frac{(c^*-c_{m-1})\\beta_m-(c^*-c_m)\\beta_{m-1}}{c_m-c_{m-1}}$ \n",
    "\n",
    "5. Se repiten los pasos 3 y 4 tanto como sea necesario, osea, hasta que $c_{m-1}$ y $c^*$ sean lo suficientemente parecidos. "
   ]
  },
  {
   "cell_type": "markdown",
   "metadata": {},
   "source": [
    "### Aplicación del método de Hyman.\n",
    "\n",
    "Corramos ahora los pasos descritos anteriormente para estimar un mejor valor para $\\beta$.\n",
    "\n",
    "\n",
    "Comencemos calculando $c^*$, que es el costo promedio de la matriz origen destino observada $\\mathbf T$. Para ello, tenemos que calcular $\\sum_{ij} \\lbrack T_{ij}(\\beta) c_{ij} \\rbrack/ T(\\beta)$. También calculamos $c_0$, que es $\\sum_{ij} \\lbrack V_{ij}(\\beta) c_{ij} \\rbrack/ V(\\beta)$"
   ]
  },
  {
   "cell_type": "markdown",
   "metadata": {},
   "source": [
    "Vemos que la diferencia porcentual entre $c^*$ y $c_0$ es del $2.76\\%$. Veamos si puede hacerse más pequeña.\n",
    "\n",
    "Estimamos $\\beta_0 = 1/c^*$, osea $\\beta_0 = 0.034$. Posteriormente, corremos el modelo:"
   ]
  },
  {
   "cell_type": "code",
   "execution_count": 307,
   "metadata": {},
   "outputs": [
    {
     "name": "stdout",
     "output_type": "stream",
     "text": [
      "beta =  0.02\n",
      "diff =  17.318965816070467\n",
      "beta =  0.03705443155316676\n",
      "diff =  14.561999028589945\n",
      "beta =  0.04245029751598843\n",
      "diff =  13.720371597062869\n",
      "beta =  0.13041473798524514\n",
      "diff =  2.444531870956544\n",
      "beta =  0.1494848811817741\n",
      "diff =  0.6136752380592297\n",
      "beta =  0.15587690252067807\n",
      "diff =  0.04322090872445521\n",
      "beta =  0.15636119890804304\n",
      "diff =  0.0008408492795095113\n",
      "beta =  0.1563708076786233\n",
      "diff =  1.181548829436642e-06\n",
      "beta =  0.15637082119972362\n",
      "diff =  3.2200070016246904e-11\n",
      "beta =  0.1563708212000921\n",
      "diff =  1.184794072552012e-13\n"
     ]
    }
   ],
   "source": [
    "beta = 0.02\n",
    "beta_m_1 = 0\n",
    "beta_m = 0\n",
    "beta_0 = 0\n",
    "c_m_1 = 0\n",
    "c_m = 0\n",
    "c_0 = 0\n",
    "\n",
    "hymx = []\n",
    "hymy = []\n",
    "\n",
    "for i in range (0,10):\n",
    "    hymx.append(i)\n",
    "    if (i == 0):\n",
    "        beta = 0.02\n",
    "    if (i == 1):\n",
    "        beta_0 = 1/c_ast\n",
    "        beta = beta_0\n",
    "    if (i == 2):\n",
    "        beta_m = beta_0*c_0/c_ast\n",
    "        beta = beta_m\n",
    "    if (i == 3):\n",
    "        beta_m_1 = beta_0\n",
    "        beta_m = beta\n",
    "        beta = ((c_ast-c_m_1)*beta_m-(c_ast-c_m)*beta_m_1)/(c_m-c_m_1)\n",
    "    if (i > 3):\n",
    "        beta_m_1 = beta_m\n",
    "        beta_m = beta\n",
    "        beta = ((c_ast-c_m_1)*beta_m-(c_ast-c_m)*beta_m_1)/(c_m-c_m_1)  \n",
    "    \n",
    "\n",
    "    def fexph(i,j,be):   # se define la función exponencial en terminos de los indices ij\n",
    "        return m.exp(-1*be*C.iloc[i,j])\n",
    "\n",
    "\n",
    "    V = pd.DataFrame(0,index = index, columns = columns) # Creamos V con ceros y le damos las mismas filas y columnas de T\n",
    "    V.iloc[26] = T.iloc[26]                              # Le asignamos los Oi de T\n",
    "    V.iloc[:,26] = T.iloc[:,26]                          # Le asignamos los Dj de T\n",
    "\n",
    "    maxL = int(m.sqrt(maxLength))      # Se define una variable para la longitud de los vectores\n",
    "\n",
    "    A = pd.Series(1.0, index=ablists)  # Se llena la matriz A de 1s\n",
    "    B = pd.Series(1.0, index=ablists)  # Se llena la matriz B de 1s\n",
    "\n",
    "    iterac = 3                                             # Se pone el número de iteraciones en 20\n",
    "    \n",
    "    for i in range (0,iterac):                               \n",
    "        for i in range (0,maxL):\n",
    "            suma = 0\n",
    "            for j in range (0,maxL):\n",
    "                suma = suma + V.iloc[maxL,j]*B[j]*fexph(i,j,beta)\n",
    "            A[i] = 1/suma\n",
    "\n",
    "        for j in range (0,maxL):\n",
    "            suma = 0\n",
    "            for i in range (0,maxL):\n",
    "                suma = suma + V.iloc[i,maxL]*A[i]*fexph(i,j,beta)\n",
    "            B[j] = 1/suma\n",
    "\n",
    "\n",
    "    for i in range (0,maxL):\n",
    "        for j in range (0,maxL):\n",
    "            if(i==j):\n",
    "                V.iloc[i][j] = 0\n",
    "            else:\n",
    "                V.iloc[i][j] = V.iloc[maxL][j]*V.iloc[i][maxL]*A[i]*B[j]*fexph(i,j,beta) # cálculo de los Vij de acuerdo a la formula\n",
    "\n",
    "    V['O'] = 0                       # refrescamos los Oi\n",
    "    V.iloc[maxL] = 0                 # refrescamos los Dj\n",
    "    V['O'] = V.sum(axis = 1)         # Se calculan los Oi\n",
    "    V.iloc[maxL] = V.sum(axis = 0)   # Se calculan los Dj\n",
    "\n",
    "\n",
    "    suma = 0  \n",
    "    suma2 = 0  \n",
    "    for i in range (0,maxL):\n",
    "        for j in range (0,maxL):\n",
    "            suma = suma + T.iloc[i,j]*C.iloc[i,j] # se multiplica cada Tij por cada Cij y se suma con el anterior\n",
    "            suma2 = suma2 + V.iloc[i,j]*C.iloc[i,j]\n",
    "\n",
    "    c_ast = suma/T.iloc[maxL,maxL]  # se divide toda la suma anterior por el total de viajes. \n",
    "       \n",
    "    if (i == 0):\n",
    "        c_0 = suma2/V.iloc[maxL,maxL] \n",
    "    if (i == 1):\n",
    "        c_m_1 = c_0\n",
    "        c_m = suma2/V.iloc[maxL,maxL]\n",
    "    if (i > 2):\n",
    "        c_m_1 = c_m\n",
    "        c_m = suma2/V.iloc[maxL,maxL]\n",
    "\n",
    "    c_0 = suma2/V.iloc[maxL,maxL]   \n",
    "    diff = (abs(c_ast-c_0)/(c_ast))*100\n",
    "    hymy.append(diff)\n",
    "    print('beta = ',beta)\n",
    "    print('diff = ',diff)"
   ]
  },
  {
   "cell_type": "markdown",
   "metadata": {},
   "source": [
    "Como se puede ver, la diferencia entre $c^*$ y $c_0$ se vuelve prácticamente nula después de 10 iteraciones, dejándonos con  $\\beta = 0.15635380651621175$. Podemos graficar este comportamiento de la diferencia porcentual entre $c^*$ y $c_0$ como función de las iteraciones así:"
   ]
  },
  {
   "cell_type": "code",
   "execution_count": 308,
   "metadata": {},
   "outputs": [
    {
     "data": {
      "text/plain": [
       "Text(0.5,1,'Diferencia porcentual entre $c^*$ y $c_0$ como función de iteraciones')"
      ]
     },
     "execution_count": 308,
     "metadata": {},
     "output_type": "execute_result"
    },
    {
     "data": {
      "image/png": "[encoded data removed]",
      "text/plain": [
       "<Figure size 432x288 with 1 Axes>"
      ]
     },
     "metadata": {},
     "output_type": "display_data"
    }
   ],
   "source": [
    "plt.plot(hymx,hymy)\n",
    "plt.xlabel(r'iteraciones') \n",
    "plt.ylabel(r'diferencia %') \n",
    "plt.title(r'Diferencia porcentual entre $c^*$ y $c_0$ como función de iteraciones')\n",
    "\n"
   ]
  },
  {
   "cell_type": "markdown",
   "metadata": {},
   "source": [
    "Corramos el modelo con el $\\beta$ hallado y quitando los viajes intrazonales"
   ]
  },
  {
   "cell_type": "code",
   "execution_count": 309,
   "metadata": {},
   "outputs": [
    {
     "name": "stdout",
     "output_type": "stream",
     "text": [
      "c* =  26.98732535041514\n",
      "c0 =  26.987325350415176\n"
     ]
    }
   ],
   "source": [
    "beta = 0.15635380651621175\n",
    " \n",
    "\n",
    "def fexp(i,j):   # se define la función exponencial en terminos de los indices ij\n",
    "    return m.exp(-1*beta*C.iloc[i,j])\n",
    "\n",
    "\n",
    "\n",
    "V = pd.DataFrame(0,index = index, columns = columns) # Creamos V con ceros y le damos las mismas filas y columnas de T\n",
    "V.iloc[26] = T.iloc[26]                              # Le asignamos los Oi de T\n",
    "V.iloc[:,26] = T.iloc[:,26]                          # Le asignamos los Dj de T\n",
    "\n",
    "maxL = int(m.sqrt(maxLength))      # Se define una variable para la longitud de los vectores\n",
    "\n",
    "A = pd.Series(1.0, index=ablists)  # Se llena la matriz A de 1s\n",
    "B = pd.Series(1.0, index=ablists)  # Se llena la matriz B de 1s\n",
    "\n",
    "A1graph = []                       # Se crean arreglos para guardar evolucion temporal de A\n",
    "A11graph = []\n",
    "A25graph = []\n",
    "\n",
    "B2graph = []                       # Se crean arreglos para guardar evolucion temporal de B\n",
    "B12graph = []\n",
    "B24graph = []\n",
    "\n",
    "iterac = 20                                              # Se pone el número de iteraciones en 20\n",
    "\n",
    "for i in range (0,iterac):                               \n",
    "    for i in range (0,maxL):\n",
    "        suma = 0\n",
    "        for j in range (0,maxL):\n",
    "            suma = suma + V.iloc[maxL,j]*B[j]*fexp(i,j)\n",
    "        A[i] = 1/suma\n",
    "\n",
    "    for j in range (0,maxL):\n",
    "        suma = 0\n",
    "        for i in range (0,maxL):\n",
    "            suma = suma + V.iloc[i,maxL]*A[i]*fexp(i,j)\n",
    "        B[j] = 1/suma\n",
    "\n",
    "    A1graph.append(A[1])                               # Se guardan os registros para graficar\n",
    "    A11graph.append(A[11])\n",
    "    A25graph.append(A[25])\n",
    "    B2graph.append(B[2])\n",
    "    B12graph.append(B[12])\n",
    "    B24graph.append(B[24])\n",
    "\n",
    "for i in range (0,maxL):\n",
    "    for j in range (0,maxL):\n",
    "        if(i==j):\n",
    "            V.iloc[i,j] = 0\n",
    "        else:\n",
    "            V.iloc[i][j] = V.iloc[maxL][j]*V.iloc[i][maxL]*A[i]*B[j]*fexp(i,j) # cálculo de los Vij de acuerdo a la formula\n",
    "\n",
    "V['O'] = 0                       # refrescamos los Oi\n",
    "V.iloc[maxL] = 0                 # refrescamos los Dj\n",
    "V['O'] = V.sum(axis = 1)         # Se calculan los Oi\n",
    "V.iloc[maxL] = V.sum(axis = 0)   # Se calculan los Dj\n",
    "\n",
    "\n",
    "suma = 0  \n",
    "suma2 = 0  \n",
    "for i in range (0,maxL):\n",
    "    for j in range (0,maxL):\n",
    "        suma = suma + T.iloc[i,j]*C.iloc[i,j] # se multiplica cada Tij por cada Cij y se suma con el anterior\n",
    "        suma2 = suma2 + V.iloc[i,j]*C.iloc[i,j]\n",
    "\n",
    "c_ast = suma/T.iloc[maxL,maxL]  # se divide toda la suma anterior por el total de viajes. \n",
    "\n",
    "\n",
    "c_0 = suma2/V.iloc[maxL,maxL] \n",
    "\n",
    "print('c* = ',c_ast)\n",
    "print('c0 = ',c_0)\n"
   ]
  },
  {
   "cell_type": "markdown",
   "metadata": {},
   "source": [
    "Grafiquemos las diferencias"
   ]
  },
  {
   "cell_type": "code",
   "execution_count": 310,
   "metadata": {
    "scrolled": true
   },
   "outputs": [
    {
     "data": {
      "text/plain": [
       "<matplotlib.legend.Legend at 0x1a25853208>"
      ]
     },
     "execution_count": 310,
     "metadata": {},
     "output_type": "execute_result"
    },
    {
     "data": {
      "image/png": "[encoded data removed]",
      "text/plain": [
       "<Figure size 432x288 with 1 Axes>"
      ]
     },
     "metadata": {},
     "output_type": "display_data"
    }
   ],
   "source": [
    "rcolumns = ['Origin','Desti','VIJ','TIJ']             # Se crean las columnas como en la tabla inicial\n",
    "rindex = []\n",
    "for i in range (0,676):\n",
    "    rindex.append(str(i))                       # Se crean 26 x 26 filas\n",
    "\n",
    "Rexp = pd.DataFrame( index = rindex, columns = rcolumns)            # se asignan esas filas y columnas a una nueva Tabla                    \n",
    "row = 0                                                          # se establece un contador de filas\n",
    "for i in range (0,maxL):\n",
    "    for j in range (0,maxL):                             \n",
    "        Rexp.iloc[row] = [i+1, j+1, V.iloc[i,j],T.iloc[i,j]]                    # se llena la tabla con los valores en V\n",
    "        row = row + 1\n",
    "        \n",
    "plt.plot(Rexp['TIJ'],Rexp['VIJ'],'.', label='resultado')\n",
    "plt.plot(df_i['TIJ'],df_i['TIJ'], label='recta teórica')\n",
    "plt.title(r'Comparación entre valores reales $T_{ij}$ con valores calculados $V_{ij}$ con función Potencial')\n",
    "plt.xlabel(r'$T_{ij}$') \n",
    "plt.ylabel(r'$V_{ij}$') \n",
    "plt.legend()\n",
    "\n"
   ]
  },
  {
   "cell_type": "code",
   "execution_count": 312,
   "metadata": {},
   "outputs": [
    {
     "name": "stdout",
     "output_type": "stream",
     "text": [
      "R2 0.5412044765337085\n"
     ]
    }
   ],
   "source": [
    "sumaR1=0\n",
    "sumaR2=0\n",
    "sumaR1 = sumaR1 + (Rexp['VIJ']-Rexp['VIJ'].mean())**2\n",
    "sumaR2 = sumaR2 + (Rexp['VIJ']-Rexp['TIJ'])**2\n",
    "print('R2',1-sumaR2.sum()/sumaR1.sum())"
   ]
  },
  {
   "cell_type": "markdown",
   "metadata": {},
   "source": [
    "## Comentarios finales:\n",
    "\n",
    "Se obtiene que si bien se logró encontrar un coeficiente $\\beta$ para el cual la función exponencial satisfaciera la condición \n",
    "\n",
    "$\n",
    "c(\\beta) = \\sum_{ij} \\lbrack V_{ij}(\\beta) c_{ij} \\rbrack/ V(\\beta) = c^* = \\sum_{ij}(T_{ij}c_{ij})/\\sum_{ij}T_{ij}\n",
    "$\n",
    "\n",
    "el $R^2$ al que conlleva no es conlcuyente de ninguna manera, y por medio de ensayo y error se llega a que un $\\beta = 0.042$ conlleva a resultados mucho mejores $R^2 = 0.73$ (anexo abajo). También se intento separar la función de costo generalizado en dos curvas distintas y en una cantidad de bines determinada, pero se encuentra que si bien la cantidad de parámetros puede collevar a una solución más exacta, el calibrarlos se torna más difícil, por lo que se conlcuye que la mejor función para modelar la situación es la exponencial con el valor $\\beta = 0.042$.\n",
    "\n",
    "Sería interesante estudiar a futuro el por qué la condicion de Hyman cierra pero no conlleva al coeficiente esperado. \n",
    "\n"
   ]
  },
  {
   "cell_type": "markdown",
   "metadata": {},
   "source": [
    "# Anexo 1. Prueba con valor empírico "
   ]
  },
  {
   "cell_type": "code",
   "execution_count": 313,
   "metadata": {},
   "outputs": [
    {
     "name": "stdout",
     "output_type": "stream",
     "text": [
      "c* =  26.98732535041514\n",
      "c0 =  30.708880642094435\n"
     ]
    }
   ],
   "source": [
    "beta = 0.042\n",
    " \n",
    "\n",
    "def fexp(i,j):   # se define la función exponencial en terminos de los indices ij\n",
    "    return m.exp(-1*beta*C.iloc[i,j])\n",
    "\n",
    "\n",
    "\n",
    "V = pd.DataFrame(0,index = index, columns = columns) # Creamos V con ceros y le damos las mismas filas y columnas de T\n",
    "V.iloc[26] = T.iloc[26]                              # Le asignamos los Oi de T\n",
    "V.iloc[:,26] = T.iloc[:,26]                          # Le asignamos los Dj de T\n",
    "\n",
    "maxL = int(m.sqrt(maxLength))      # Se define una variable para la longitud de los vectores\n",
    "\n",
    "A = pd.Series(1.0, index=ablists)  # Se llena la matriz A de 1s\n",
    "B = pd.Series(1.0, index=ablists)  # Se llena la matriz B de 1s\n",
    "\n",
    "A1graph = []                       # Se crean arreglos para guardar evolucion temporal de A\n",
    "A11graph = []\n",
    "A25graph = []\n",
    "\n",
    "B2graph = []                       # Se crean arreglos para guardar evolucion temporal de B\n",
    "B12graph = []\n",
    "B24graph = []\n",
    "\n",
    "iterac = 20                                              # Se pone el número de iteraciones en 20\n",
    "\n",
    "for i in range (0,iterac):                               \n",
    "    for i in range (0,maxL):\n",
    "        suma = 0\n",
    "        for j in range (0,maxL):\n",
    "            suma = suma + V.iloc[maxL,j]*B[j]*fexp(i,j)\n",
    "        A[i] = 1/suma\n",
    "\n",
    "    for j in range (0,maxL):\n",
    "        suma = 0\n",
    "        for i in range (0,maxL):\n",
    "            suma = suma + V.iloc[i,maxL]*A[i]*fexp(i,j)\n",
    "        B[j] = 1/suma\n",
    "\n",
    "    A1graph.append(A[1])                               # Se guardan os registros para graficar\n",
    "    A11graph.append(A[11])\n",
    "    A25graph.append(A[25])\n",
    "    B2graph.append(B[2])\n",
    "    B12graph.append(B[12])\n",
    "    B24graph.append(B[24])\n",
    "\n",
    "for i in range (0,maxL):\n",
    "    for j in range (0,maxL):\n",
    "        if(i==j):\n",
    "            V.iloc[i,j] = 0\n",
    "        else:\n",
    "            V.iloc[i][j] = V.iloc[maxL][j]*V.iloc[i][maxL]*A[i]*B[j]*fexp(i,j) # cálculo de los Vij de acuerdo a la formula\n",
    "\n",
    "V['O'] = 0                       # refrescamos los Oi\n",
    "V.iloc[maxL] = 0                 # refrescamos los Dj\n",
    "V['O'] = V.sum(axis = 1)         # Se calculan los Oi\n",
    "V.iloc[maxL] = V.sum(axis = 0)   # Se calculan los Dj\n",
    "\n",
    "\n",
    "suma = 0  \n",
    "suma2 = 0  \n",
    "for i in range (0,maxL):\n",
    "    for j in range (0,maxL):\n",
    "        suma = suma + T.iloc[i,j]*C.iloc[i,j] # se multiplica cada Tij por cada Cij y se suma con el anterior\n",
    "        suma2 = suma2 + V.iloc[i,j]*C.iloc[i,j]\n",
    "\n",
    "c_ast = suma/T.iloc[maxL,maxL]  # se divide toda la suma anterior por el total de viajes. \n",
    "\n",
    "\n",
    "c_0 = suma2/V.iloc[maxL,maxL] \n",
    "\n",
    "print('c* = ',c_ast)\n",
    "print('c0 = ',c_0)"
   ]
  },
  {
   "cell_type": "code",
   "execution_count": 314,
   "metadata": {},
   "outputs": [
    {
     "data": {
      "text/plain": [
       "<matplotlib.legend.Legend at 0x1a25938cf8>"
      ]
     },
     "execution_count": 314,
     "metadata": {},
     "output_type": "execute_result"
    },
    {
     "data": {
      "image/png": "[encoded data removed]",
      "text/plain": [
       "<Figure size 432x288 with 1 Axes>"
      ]
     },
     "metadata": {},
     "output_type": "display_data"
    }
   ],
   "source": [
    "rcolumns = ['Origin','Desti','VIJ','TIJ']             # Se crean las columnas como en la tabla inicial\n",
    "rindex = []\n",
    "for i in range (0,676):\n",
    "    rindex.append(str(i))                       # Se crean 26 x 26 filas\n",
    "\n",
    "Rexp = pd.DataFrame( index = rindex, columns = rcolumns)            # se asignan esas filas y columnas a una nueva Tabla                    \n",
    "row = 0                                                          # se establece un contador de filas\n",
    "for i in range (0,maxL):\n",
    "    for j in range (0,maxL):                             \n",
    "        Rexp.iloc[row] = [i+1, j+1, V.iloc[i,j],T.iloc[i,j]]                    # se llena la tabla con los valores en V\n",
    "        row = row + 1\n",
    "        \n",
    "plt.plot(Rexp['TIJ'],Rexp['VIJ'],'.', label='resultado')\n",
    "plt.plot(df_i['TIJ'],df_i['TIJ'], label='recta teórica')\n",
    "plt.title(r'Comparación entre valores reales $T_{ij}$ con valores calculados $V_{ij}$ con función Potencial')\n",
    "plt.xlabel(r'$T_{ij}$') \n",
    "plt.ylabel(r'$V_{ij}$') \n",
    "plt.legend()\n",
    "\n",
    "\n"
   ]
  },
  {
   "cell_type": "code",
   "execution_count": 315,
   "metadata": {},
   "outputs": [
    {
     "name": "stdout",
     "output_type": "stream",
     "text": [
      "R2 0.7347133172909348\n"
     ]
    }
   ],
   "source": [
    "sumaR1=0\n",
    "sumaR2=0\n",
    "sumaR1 = sumaR1 + (Rexp['VIJ']-Rexp['VIJ'].mean())**2\n",
    "sumaR2 = sumaR2 + (Rexp['VIJ']-Rexp['TIJ'])**2\n",
    "print('R2',1-sumaR2.sum()/sumaR1.sum())"
   ]
  },
  {
   "cell_type": "markdown",
   "metadata": {},
   "source": [
    "# Anexo 2. Prueba con bines y varias curvas al histograma"
   ]
  },
  {
   "cell_type": "code",
   "execution_count": 106,
   "metadata": {},
   "outputs": [
    {
     "data": {
      "image/png": "[encoded data removed]",
      "text/plain": [
       "<Figure size 432x288 with 1 Axes>"
      ]
     },
     "metadata": {},
     "output_type": "display_data"
    }
   ],
   "source": [
    "bin_heights, bin_borders,_ = plt.hist(df_i['CIJ'],bins=20)"
   ]
  },
  {
   "cell_type": "code",
   "execution_count": 191,
   "metadata": {},
   "outputs": [],
   "source": [
    "def Fbins(i,j):\n",
    "    x = C.iloc[i,j]\n",
    "    for z in range(0,len(bin_borders)-1):\n",
    "        if (bin_borders[z]<=x and bin_borders[z+1]>=x):\n",
    "            return bin_heights[z]\n",
    "            break"
   ]
  },
  {
   "cell_type": "code",
   "execution_count": 192,
   "metadata": {},
   "outputs": [
    {
     "data": {
      "text/plain": [
       "50"
      ]
     },
     "execution_count": 192,
     "metadata": {},
     "output_type": "execute_result"
    }
   ],
   "source": [
    "C.iloc[25][2]"
   ]
  },
  {
   "cell_type": "code",
   "execution_count": 193,
   "metadata": {},
   "outputs": [
    {
     "data": {
      "text/plain": [
       "30.0"
      ]
     },
     "execution_count": 193,
     "metadata": {},
     "output_type": "execute_result"
    }
   ],
   "source": [
    "Fbins(25,2)"
   ]
  },
  {
   "cell_type": "code",
   "execution_count": 194,
   "metadata": {},
   "outputs": [
    {
     "name": "stdout",
     "output_type": "stream",
     "text": [
      "26\n"
     ]
    }
   ],
   "source": [
    "V = pd.DataFrame(0,index = index, columns = columns) # Creamos V con ceros y le damos las mismas filas y columnas de T\n",
    "V.iloc[26] = T.iloc[26]                              # Le asignamos los Oi de T\n",
    "V.iloc[:,26] = T.iloc[:,26]                          # Le asignamos los Dj de T\n",
    "\n",
    "maxL = int(m.sqrt(maxLength))      # Se define una variable para la longitud de los vectores\n",
    "print(maxL)\n",
    "A = pd.Series(1.0, index=ablists)  # Se llena la matriz A de 1s\n",
    "B = pd.Series(1.0, index=ablists)  # Se llena la matriz B de 1s\n",
    "\n",
    "A1graph = []                       # Se crean arreglos para guardar evolucion temporal de A\n",
    "A11graph = []\n",
    "A25graph = []\n",
    "\n",
    "B2graph = []                       # Se crean arreglos para guardar evolucion temporal de B\n",
    "B12graph = []\n",
    "B24graph = []\n",
    "\n",
    "iterac = 20                                              # Se pone el número de iteraciones en 20\n",
    "\n",
    "for z in range (0,iterac):                               \n",
    "    for i in range (0,maxL):\n",
    "        suma = 0\n",
    "        for j in range (0,maxL):\n",
    "            suma = suma + V.iloc[maxL,j]*B[j]*Fbins(i,j)\n",
    "        A[i] = 1/suma\n",
    "\n",
    "    for j in range (0,maxL):\n",
    "        suma = 0\n",
    "        for i in range (0,maxL):\n",
    "            suma = suma + V.iloc[i,maxL]*A[i]*Fbins(i,j)\n",
    "        B[j] = 1/suma\n",
    "\n",
    "    A1graph.append(A[1])                               # Se guardan os registros para graficar\n",
    "    A11graph.append(A[11])\n",
    "    A25graph.append(A[25])\n",
    "    B2graph.append(B[2])\n",
    "    B12graph.append(B[12])\n",
    "    B24graph.append(B[24])\n",
    "\n",
    "for i in range (0,maxL):\n",
    "    for j in range (0,maxL):\n",
    "        V.iloc[i][j] = V.iloc[maxL][j]*V.iloc[i][maxL]*A[i]*B[j]*Fbins(i,j) # cálculo de los Vij de acuerdo a la formula\n",
    "\n",
    "V['O'] = 0                       # refrescamos los Oi\n",
    "V.iloc[maxL] = 0                 # refrescamos los Dj\n",
    "V['O'] = V.sum(axis = 1)         # Se calculan los Oi\n",
    "V.iloc[maxL] = V.sum(axis = 0)   # Se calculan los Dj\n",
    "\n",
    "\n"
   ]
  },
  {
   "cell_type": "code",
   "execution_count": 172,
   "metadata": {},
   "outputs": [
    {
     "data": {
      "text/plain": [
       "[<matplotlib.lines.Line2D at 0x10f47de80>]"
      ]
     },
     "execution_count": 172,
     "metadata": {},
     "output_type": "execute_result"
    },
    {
     "data": {
      "image/png": "[encoded data removed]",
      "text/plain": [
       "<Figure size 432x288 with 1 Axes>"
      ]
     },
     "metadata": {},
     "output_type": "display_data"
    }
   ],
   "source": [
    "bin_centers = bin_borders[:-1] + np.diff(bin_borders) / 2\n",
    "plt.plot(bin_centers, bin_heights,\".\")"
   ]
  },
  {
   "cell_type": "code",
   "execution_count": 217,
   "metadata": {},
   "outputs": [
    {
     "name": "stdout",
     "output_type": "stream",
     "text": [
      "alpha =  2.5674133089560494\n",
      "beta =  0.13143145318108593\n"
     ]
    },
    {
     "data": {
      "text/plain": [
       "[<matplotlib.lines.Line2D at 0x101a756400>]"
      ]
     },
     "execution_count": 217,
     "metadata": {},
     "output_type": "execute_result"
    },
    {
     "data": {
      "image/png": "[encoded data removed]",
      "text/plain": [
       "<Figure size 432x288 with 1 Axes>"
      ]
     },
     "metadata": {},
     "output_type": "display_data"
    }
   ],
   "source": [
    "pares = list(zip(bin_centers, bin_heights))\n",
    "newpares = list(filter(lambda x : x[0] > 25, pares))\n",
    "xdata,ydata = zip(*newpares)\n",
    "xinterval = np.linspace(27,90,25)\n",
    "\n",
    "popt1,_ = curve_fit(lambda t,a,b: (t**a)*np.exp(-1*b*t),  xdata,  ydata,  p0=(1.2, 0.02))\n",
    "print('alpha = ', popt1[0])\n",
    "print('beta = ',popt1[1])\n",
    "\n",
    "plt.plot(bin_centers, bin_heights,\".\")\n",
    "plt.plot(xinterval, (xinterval**popt1[0])*np.exp(-1*popt1[1]*xinterval))"
   ]
  },
  {
   "cell_type": "code",
   "execution_count": 184,
   "metadata": {},
   "outputs": [
    {
     "name": "stdout",
     "output_type": "stream",
     "text": [
      "alpha =  -0.8882722400097314\n",
      "beta =  -0.3037831780133804\n"
     ]
    },
    {
     "data": {
      "text/plain": [
       "[<matplotlib.lines.Line2D at 0x10ee00f98>]"
      ]
     },
     "execution_count": 184,
     "metadata": {},
     "output_type": "execute_result"
    },
    {
     "data": {
      "image/png": "[encoded data removed]",
      "text/plain": [
       "<Figure size 432x288 with 1 Axes>"
      ]
     },
     "metadata": {},
     "output_type": "display_data"
    }
   ],
   "source": [
    "newpares2 = list(filter(lambda x : x[0] < 25, pares))\n",
    "xdata2,ydata2 = zip(*newpares2)\n",
    "xinterval2 = np.linspace(1,25,25)\n",
    "popt2,_ = curve_fit(lambda t,a,b: (t**a)*np.exp(-1*b*t),  xdata2,  ydata2,  p0=(1.2, 0.02))\n",
    "\n",
    "print('alpha = ', popt2[0])\n",
    "print('beta = ',popt2[1])\n",
    "plt.plot(bin_centers, bin_heights,\".\")\n",
    "plt.plot(xinterval2, (xinterval2**popt2[0])*np.exp(-1*popt2[1]*xinterval2))"
   ]
  },
  {
   "cell_type": "code",
   "execution_count": 186,
   "metadata": {},
   "outputs": [
    {
     "data": {
      "text/plain": [
       "[<matplotlib.lines.Line2D at 0x10f6a9908>]"
      ]
     },
     "execution_count": 186,
     "metadata": {},
     "output_type": "execute_result"
    },
    {
     "data": {
      "image/png": "[encoded data removed]",
      "text/plain": [
       "<Figure size 432x288 with 1 Axes>"
      ]
     },
     "metadata": {},
     "output_type": "display_data"
    }
   ],
   "source": [
    "plt.plot(bin_centers, bin_heights,\".\")\n",
    "plt.hist(df_i['CIJ'],bins=20, color='skyblue')\n",
    "plt.plot(xinterval, (xinterval**popt1[0])*np.exp(-1*popt1[1]*xinterval))\n",
    "plt.plot(xinterval2, (xinterval2**popt2[0])*np.exp(-1*popt2[1]*xinterval2))"
   ]
  },
  {
   "cell_type": "code",
   "execution_count": 227,
   "metadata": {},
   "outputs": [],
   "source": [
    "def fdef(i,j):\n",
    "    x = C.iloc[i,j]\n",
    "    #print('x = ', x)\n",
    "    if (x > 25):\n",
    "        #print(x ,' > 25')\n",
    "        return (x**popt1[0])*np.exp(-1*popt1[1]*x)\n",
    "    else:\n",
    "        #print(x ,' < 25')\n",
    "        return (x**popt2[0])*np.exp(-1*popt2[1]*x)\n",
    "    "
   ]
  },
  {
   "cell_type": "code",
   "execution_count": 228,
   "metadata": {},
   "outputs": [],
   "source": [
    "A = pd.Series(1.0, index=ablists)\n",
    "B = pd.Series(1.0, index=ablists)\n",
    "Agraph = []\n",
    "iter = 10\n",
    "\n",
    "for i in range (0,iter):\n",
    "    for i in range (0,maxL):\n",
    "        suma = 0\n",
    "        for j in range (0,maxL):\n",
    "            suma = suma + M.iloc[maxL,j]*B[j]*fdef(i,j)\n",
    "        A[i] = 1/suma\n",
    "        #print (A[i])\n",
    "    #print(A[0])\n",
    "\n",
    "    for j in range (0,maxL):\n",
    "        suma = 0\n",
    "        for i in range (0,maxL):\n",
    "            suma = suma + M.iloc[i,maxL]*A[i]*fdef(i,j)\n",
    "            #print(df_matriz.iloc[i][j])\n",
    "        B[j] = 1/suma\n",
    "    Agraph.append(A[0])\n",
    "    #print(A)\n",
    "#print(Agraph)"
   ]
  },
  {
   "cell_type": "code",
   "execution_count": 208,
   "metadata": {},
   "outputs": [
    {
     "name": "stdout",
     "output_type": "stream",
     "text": [
      "[0. 1. 2. 3. 4. 5. 6. 7. 8. 9.]\n"
     ]
    },
    {
     "data": {
      "text/plain": [
       "[<matplotlib.lines.Line2D at 0x101a6a9ba8>]"
      ]
     },
     "execution_count": 208,
     "metadata": {},
     "output_type": "execute_result"
    },
    {
     "data": {
      "image/png": "[encoded data removed]",
      "text/plain": [
       "<Figure size 432x288 with 1 Axes>"
      ]
     },
     "metadata": {},
     "output_type": "display_data"
    }
   ],
   "source": [
    "iteraciones = np.linspace(0,iter-1,iter)\n",
    "print(iteraciones)\n",
    "plt.plot(iteraciones,Agraph)"
   ]
  },
  {
   "cell_type": "code",
   "execution_count": 229,
   "metadata": {},
   "outputs": [],
   "source": [
    "V = pd.DataFrame(0,index = index, columns = columns)"
   ]
  },
  {
   "cell_type": "code",
   "execution_count": 230,
   "metadata": {},
   "outputs": [],
   "source": [
    "for i in range (0,maxL):\n",
    "    for j in range (0,maxL):\n",
    "        V.iloc[i][j] = M.iloc[maxL][j]*M.iloc[i][maxL]*A[i]*B[j]*fdef(i,j)"
   ]
  },
  {
   "cell_type": "code",
   "execution_count": 288,
   "metadata": {},
   "outputs": [
    {
     "data": {
      "text/html": [
       "<div>\n",
       "<style scoped>\n",
       "    .dataframe tbody tr th:only-of-type {\n",
       "        vertical-align: middle;\n",
       "    }\n",
       "\n",
       "    .dataframe tbody tr th {\n",
       "        vertical-align: top;\n",
       "    }\n",
       "\n",
       "    .dataframe thead th {\n",
       "        text-align: right;\n",
       "    }\n",
       "</style>\n",
       "<table border=\"1\" class=\"dataframe\">\n",
       "  <thead>\n",
       "    <tr style=\"text-align: right;\">\n",
       "      <th></th>\n",
       "      <th>0</th>\n",
       "      <th>1</th>\n",
       "      <th>2</th>\n",
       "      <th>3</th>\n",
       "      <th>4</th>\n",
       "      <th>5</th>\n",
       "      <th>6</th>\n",
       "      <th>7</th>\n",
       "      <th>8</th>\n",
       "      <th>9</th>\n",
       "      <th>...</th>\n",
       "      <th>17</th>\n",
       "      <th>18</th>\n",
       "      <th>19</th>\n",
       "      <th>20</th>\n",
       "      <th>21</th>\n",
       "      <th>22</th>\n",
       "      <th>23</th>\n",
       "      <th>24</th>\n",
       "      <th>25</th>\n",
       "      <th>O</th>\n",
       "    </tr>\n",
       "  </thead>\n",
       "  <tbody>\n",
       "    <tr>\n",
       "      <th>0</th>\n",
       "      <td>801</td>\n",
       "      <td>638</td>\n",
       "      <td>1552</td>\n",
       "      <td>875</td>\n",
       "      <td>673</td>\n",
       "      <td>1129</td>\n",
       "      <td>1693</td>\n",
       "      <td>552</td>\n",
       "      <td>866</td>\n",
       "      <td>728</td>\n",
       "      <td>...</td>\n",
       "      <td>243</td>\n",
       "      <td>302</td>\n",
       "      <td>194</td>\n",
       "      <td>873</td>\n",
       "      <td>501</td>\n",
       "      <td>320</td>\n",
       "      <td>140</td>\n",
       "      <td>759</td>\n",
       "      <td>29</td>\n",
       "      <td>0</td>\n",
       "    </tr>\n",
       "    <tr>\n",
       "      <th>1</th>\n",
       "      <td>389</td>\n",
       "      <td>681</td>\n",
       "      <td>1478</td>\n",
       "      <td>634</td>\n",
       "      <td>602</td>\n",
       "      <td>1473</td>\n",
       "      <td>1530</td>\n",
       "      <td>601</td>\n",
       "      <td>928</td>\n",
       "      <td>1207</td>\n",
       "      <td>...</td>\n",
       "      <td>28</td>\n",
       "      <td>329</td>\n",
       "      <td>103</td>\n",
       "      <td>537</td>\n",
       "      <td>259</td>\n",
       "      <td>103</td>\n",
       "      <td>45</td>\n",
       "      <td>23</td>\n",
       "      <td>44</td>\n",
       "      <td>0</td>\n",
       "    </tr>\n",
       "    <tr>\n",
       "      <th>2</th>\n",
       "      <td>1686</td>\n",
       "      <td>1454</td>\n",
       "      <td>866</td>\n",
       "      <td>1401</td>\n",
       "      <td>1788</td>\n",
       "      <td>4421</td>\n",
       "      <td>4446</td>\n",
       "      <td>2096</td>\n",
       "      <td>1398</td>\n",
       "      <td>2552</td>\n",
       "      <td>...</td>\n",
       "      <td>774</td>\n",
       "      <td>879</td>\n",
       "      <td>747</td>\n",
       "      <td>1098</td>\n",
       "      <td>616</td>\n",
       "      <td>675</td>\n",
       "      <td>199</td>\n",
       "      <td>954</td>\n",
       "      <td>363</td>\n",
       "      <td>0</td>\n",
       "    </tr>\n",
       "    <tr>\n",
       "      <th>3</th>\n",
       "      <td>618</td>\n",
       "      <td>393</td>\n",
       "      <td>1369</td>\n",
       "      <td>269</td>\n",
       "      <td>830</td>\n",
       "      <td>2224</td>\n",
       "      <td>2359</td>\n",
       "      <td>1155</td>\n",
       "      <td>1005</td>\n",
       "      <td>1470</td>\n",
       "      <td>...</td>\n",
       "      <td>247</td>\n",
       "      <td>304</td>\n",
       "      <td>610</td>\n",
       "      <td>881</td>\n",
       "      <td>581</td>\n",
       "      <td>279</td>\n",
       "      <td>349</td>\n",
       "      <td>273</td>\n",
       "      <td>132</td>\n",
       "      <td>0</td>\n",
       "    </tr>\n",
       "    <tr>\n",
       "      <th>4</th>\n",
       "      <td>935</td>\n",
       "      <td>489</td>\n",
       "      <td>2365</td>\n",
       "      <td>888</td>\n",
       "      <td>561</td>\n",
       "      <td>2308</td>\n",
       "      <td>2712</td>\n",
       "      <td>1272</td>\n",
       "      <td>896</td>\n",
       "      <td>1036</td>\n",
       "      <td>...</td>\n",
       "      <td>265</td>\n",
       "      <td>492</td>\n",
       "      <td>186</td>\n",
       "      <td>811</td>\n",
       "      <td>363</td>\n",
       "      <td>170</td>\n",
       "      <td>15</td>\n",
       "      <td>516</td>\n",
       "      <td>117</td>\n",
       "      <td>0</td>\n",
       "    </tr>\n",
       "  </tbody>\n",
       "</table>\n",
       "<p>5 rows × 27 columns</p>\n",
       "</div>"
      ],
      "text/plain": [
       "      0     1     2     3     4     5     6     7     8     9 ...   17   18  \\\n",
       "0   801   638  1552   875   673  1129  1693   552   866   728 ...  243  302   \n",
       "1   389   681  1478   634   602  1473  1530   601   928  1207 ...   28  329   \n",
       "2  1686  1454   866  1401  1788  4421  4446  2096  1398  2552 ...  774  879   \n",
       "3   618   393  1369   269   830  2224  2359  1155  1005  1470 ...  247  304   \n",
       "4   935   489  2365   888   561  2308  2712  1272   896  1036 ...  265  492   \n",
       "\n",
       "    19    20   21   22   23   24   25  O  \n",
       "0  194   873  501  320  140  759   29  0  \n",
       "1  103   537  259  103   45   23   44  0  \n",
       "2  747  1098  616  675  199  954  363  0  \n",
       "3  610   881  581  279  349  273  132  0  \n",
       "4  186   811  363  170   15  516  117  0  \n",
       "\n",
       "[5 rows x 27 columns]"
      ]
     },
     "execution_count": 288,
     "metadata": {},
     "output_type": "execute_result"
    }
   ],
   "source": [
    "V.head()"
   ]
  },
  {
   "cell_type": "code",
   "execution_count": 302,
   "metadata": {},
   "outputs": [],
   "source": [
    "rcolumns = ['Origin','Desti','RIJ']\n",
    "rindex = []\n",
    "for i in range (0,676):\n",
    "    rindex.append(str(i))\n",
    "\n",
    "R = pd.DataFrame( index = rindex, columns = rcolumns)\n",
    "df_add = pd.DataFrame([[1, 2, 3],[1, 2, 3]], columns=rcolumns)\n",
    "R.head()\n",
    "                       \n",
    "row = 0\n",
    "for i in range (0,maxL):\n",
    "    for j in range (0,maxL):\n",
    "        R.iloc[row] = [i+1, j+1, V.iloc[j,i]]\n",
    "        row = row + 1\n",
    "        "
   ]
  },
  {
   "cell_type": "code",
   "execution_count": 303,
   "metadata": {},
   "outputs": [
    {
     "data": {
      "text/html": [
       "<div>\n",
       "<style scoped>\n",
       "    .dataframe tbody tr th:only-of-type {\n",
       "        vertical-align: middle;\n",
       "    }\n",
       "\n",
       "    .dataframe tbody tr th {\n",
       "        vertical-align: top;\n",
       "    }\n",
       "\n",
       "    .dataframe thead th {\n",
       "        text-align: right;\n",
       "    }\n",
       "</style>\n",
       "<table border=\"1\" class=\"dataframe\">\n",
       "  <thead>\n",
       "    <tr style=\"text-align: right;\">\n",
       "      <th></th>\n",
       "      <th>Origin</th>\n",
       "      <th>Desti</th>\n",
       "      <th>RIJ</th>\n",
       "    </tr>\n",
       "  </thead>\n",
       "  <tbody>\n",
       "    <tr>\n",
       "      <th>670</th>\n",
       "      <td>26</td>\n",
       "      <td>21</td>\n",
       "      <td>1313</td>\n",
       "    </tr>\n",
       "    <tr>\n",
       "      <th>671</th>\n",
       "      <td>26</td>\n",
       "      <td>22</td>\n",
       "      <td>357</td>\n",
       "    </tr>\n",
       "    <tr>\n",
       "      <th>672</th>\n",
       "      <td>26</td>\n",
       "      <td>23</td>\n",
       "      <td>453</td>\n",
       "    </tr>\n",
       "    <tr>\n",
       "      <th>673</th>\n",
       "      <td>26</td>\n",
       "      <td>24</td>\n",
       "      <td>211</td>\n",
       "    </tr>\n",
       "    <tr>\n",
       "      <th>674</th>\n",
       "      <td>26</td>\n",
       "      <td>25</td>\n",
       "      <td>1216</td>\n",
       "    </tr>\n",
       "    <tr>\n",
       "      <th>675</th>\n",
       "      <td>26</td>\n",
       "      <td>26</td>\n",
       "      <td>174</td>\n",
       "    </tr>\n",
       "  </tbody>\n",
       "</table>\n",
       "</div>"
      ],
      "text/plain": [
       "     Origin  Desti   RIJ\n",
       "670      26     21  1313\n",
       "671      26     22   357\n",
       "672      26     23   453\n",
       "673      26     24   211\n",
       "674      26     25  1216\n",
       "675      26     26   174"
      ]
     },
     "execution_count": 303,
     "metadata": {},
     "output_type": "execute_result"
    }
   ],
   "source": [
    "R.iloc[670:676,:]"
   ]
  },
  {
   "cell_type": "code",
   "execution_count": 304,
   "metadata": {},
   "outputs": [
    {
     "data": {
      "text/html": [
       "<div>\n",
       "<style scoped>\n",
       "    .dataframe tbody tr th:only-of-type {\n",
       "        vertical-align: middle;\n",
       "    }\n",
       "\n",
       "    .dataframe tbody tr th {\n",
       "        vertical-align: top;\n",
       "    }\n",
       "\n",
       "    .dataframe thead th {\n",
       "        text-align: right;\n",
       "    }\n",
       "</style>\n",
       "<table border=\"1\" class=\"dataframe\">\n",
       "  <thead>\n",
       "    <tr style=\"text-align: right;\">\n",
       "      <th></th>\n",
       "      <th>ORIGIN</th>\n",
       "      <th>DEST</th>\n",
       "      <th>TIJ</th>\n",
       "      <th>CIJ</th>\n",
       "    </tr>\n",
       "  </thead>\n",
       "  <tbody>\n",
       "    <tr>\n",
       "      <th>670</th>\n",
       "      <td>26</td>\n",
       "      <td>21</td>\n",
       "      <td>541</td>\n",
       "      <td>30</td>\n",
       "    </tr>\n",
       "    <tr>\n",
       "      <th>671</th>\n",
       "      <td>26</td>\n",
       "      <td>22</td>\n",
       "      <td>801</td>\n",
       "      <td>24</td>\n",
       "    </tr>\n",
       "    <tr>\n",
       "      <th>672</th>\n",
       "      <td>26</td>\n",
       "      <td>23</td>\n",
       "      <td>708</td>\n",
       "      <td>25</td>\n",
       "    </tr>\n",
       "    <tr>\n",
       "      <th>673</th>\n",
       "      <td>26</td>\n",
       "      <td>24</td>\n",
       "      <td>368</td>\n",
       "      <td>40</td>\n",
       "    </tr>\n",
       "    <tr>\n",
       "      <th>674</th>\n",
       "      <td>26</td>\n",
       "      <td>25</td>\n",
       "      <td>1804</td>\n",
       "      <td>25</td>\n",
       "    </tr>\n",
       "    <tr>\n",
       "      <th>675</th>\n",
       "      <td>26</td>\n",
       "      <td>26</td>\n",
       "      <td>1635</td>\n",
       "      <td>21</td>\n",
       "    </tr>\n",
       "  </tbody>\n",
       "</table>\n",
       "</div>"
      ],
      "text/plain": [
       "     ORIGIN  DEST   TIJ  CIJ\n",
       "670      26    21   541   30\n",
       "671      26    22   801   24\n",
       "672      26    23   708   25\n",
       "673      26    24   368   40\n",
       "674      26    25  1804   25\n",
       "675      26    26  1635   21"
      ]
     },
     "execution_count": 304,
     "metadata": {},
     "output_type": "execute_result"
    }
   ],
   "source": [
    "df_i.iloc[670:676,:]"
   ]
  },
  {
   "cell_type": "code",
   "execution_count": 315,
   "metadata": {
    "scrolled": true
   },
   "outputs": [
    {
     "data": {
      "text/plain": [
       "[<matplotlib.lines.Line2D at 0x101c0ac978>]"
      ]
     },
     "execution_count": 315,
     "metadata": {},
     "output_type": "execute_result"
    },
    {
     "data": {
      "image/png": "[encoded data removed]",
      "text/plain": [
       "<Figure size 432x288 with 1 Axes>"
      ]
     },
     "metadata": {},
     "output_type": "display_data"
    }
   ],
   "source": [
    "plt.plot(df_i['TIJ'],R['RIJ'],'.')\n",
    "plt.plot(df_i['TIJ'],df_i['TIJ'])"
   ]
  }
 ],
 "metadata": {
  "kernelspec": {
   "display_name": "Python 3",
   "language": "python",
   "name": "python3"
  },
  "language_info": {
   "codemirror_mode": {
    "name": "ipython",
    "version": 3
   },
   "file_extension": ".py",
   "mimetype": "text/x-python",
   "name": "python",
   "nbconvert_exporter": "python",
   "pygments_lexer": "ipython3",
   "version": "3.6.5"
  }
 },
 "nbformat": 4,
 "nbformat_minor": 2
}
